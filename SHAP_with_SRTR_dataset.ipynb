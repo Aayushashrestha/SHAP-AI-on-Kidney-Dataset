{
 "cells": [
  {
   "cell_type": "code",
   "execution_count": 1,
   "id": "5df9eb13-f79c-4d66-a514-1418a389ad49",
   "metadata": {},
   "outputs": [
    {
     "name": "stdout",
     "output_type": "stream",
     "text": [
      "Requirement already satisfied: numpy in ./.venv/lib/python3.11/site-packages (1.26.1)\n",
      "Note: you may need to restart the kernel to use updated packages.\n"
     ]
    }
   ],
   "source": [
    "pip install numpy"
   ]
  },
  {
   "cell_type": "code",
   "execution_count": null,
   "id": "6ef4cd83-d378-41a5-9833-34aecbb96147",
   "metadata": {},
   "outputs": [],
   "source": []
  },
  {
   "cell_type": "code",
   "execution_count": 2,
   "id": "9f555b52-5168-40cf-9c04-93afce20b0f0",
   "metadata": {},
   "outputs": [
    {
     "name": "stdout",
     "output_type": "stream",
     "text": [
      "Requirement already satisfied: pandas in ./.venv/lib/python3.11/site-packages (2.1.1)\n",
      "Requirement already satisfied: numpy>=1.23.2 in ./.venv/lib/python3.11/site-packages (from pandas) (1.26.1)\n",
      "Requirement already satisfied: python-dateutil>=2.8.2 in ./.venv/lib/python3.11/site-packages (from pandas) (2.8.2)\n",
      "Requirement already satisfied: pytz>=2020.1 in ./.venv/lib/python3.11/site-packages (from pandas) (2023.3.post1)\n",
      "Requirement already satisfied: tzdata>=2022.1 in ./.venv/lib/python3.11/site-packages (from pandas) (2023.3)\n",
      "Requirement already satisfied: six>=1.5 in ./.venv/lib/python3.11/site-packages (from python-dateutil>=2.8.2->pandas) (1.16.0)\n",
      "Note: you may need to restart the kernel to use updated packages.\n"
     ]
    }
   ],
   "source": [
    "pip install pandas "
   ]
  },
  {
   "cell_type": "code",
   "execution_count": 3,
   "id": "aa71d175-d7c9-4a35-b9b2-eb79cee107f8",
   "metadata": {},
   "outputs": [
    {
     "name": "stdout",
     "output_type": "stream",
     "text": [
      "Requirement already satisfied: gplearn in ./.venv/lib/python3.11/site-packages (0.4.2)\n",
      "Requirement already satisfied: scikit-learn>=1.0.2 in ./.venv/lib/python3.11/site-packages (from gplearn) (1.3.2)\n",
      "Requirement already satisfied: joblib>=1.0.0 in ./.venv/lib/python3.11/site-packages (from gplearn) (1.3.2)\n",
      "Requirement already satisfied: numpy<2.0,>=1.17.3 in ./.venv/lib/python3.11/site-packages (from scikit-learn>=1.0.2->gplearn) (1.26.1)\n",
      "Requirement already satisfied: scipy>=1.5.0 in ./.venv/lib/python3.11/site-packages (from scikit-learn>=1.0.2->gplearn) (1.11.3)\n",
      "Requirement already satisfied: threadpoolctl>=2.0.0 in ./.venv/lib/python3.11/site-packages (from scikit-learn>=1.0.2->gplearn) (3.2.0)\n",
      "Note: you may need to restart the kernel to use updated packages.\n"
     ]
    }
   ],
   "source": [
    "pip install gplearn"
   ]
  },
  {
   "cell_type": "code",
   "execution_count": 4,
   "id": "07a770e8-1f50-407a-9b20-2c1dafd4447e",
   "metadata": {
    "scrolled": true
   },
   "outputs": [
    {
     "name": "stdout",
     "output_type": "stream",
     "text": [
      "Requirement already satisfied: matplotlib in ./.venv/lib/python3.11/site-packages (3.8.0)\n",
      "Requirement already satisfied: contourpy>=1.0.1 in ./.venv/lib/python3.11/site-packages (from matplotlib) (1.1.1)\n",
      "Requirement already satisfied: cycler>=0.10 in ./.venv/lib/python3.11/site-packages (from matplotlib) (0.12.1)\n",
      "Requirement already satisfied: fonttools>=4.22.0 in ./.venv/lib/python3.11/site-packages (from matplotlib) (4.43.1)\n",
      "Requirement already satisfied: kiwisolver>=1.0.1 in ./.venv/lib/python3.11/site-packages (from matplotlib) (1.4.5)\n",
      "Requirement already satisfied: numpy<2,>=1.21 in ./.venv/lib/python3.11/site-packages (from matplotlib) (1.26.1)\n",
      "Requirement already satisfied: packaging>=20.0 in ./.venv/lib/python3.11/site-packages (from matplotlib) (23.2)\n",
      "Requirement already satisfied: pillow>=6.2.0 in ./.venv/lib/python3.11/site-packages (from matplotlib) (10.1.0)\n",
      "Requirement already satisfied: pyparsing>=2.3.1 in ./.venv/lib/python3.11/site-packages (from matplotlib) (3.1.1)\n",
      "Requirement already satisfied: python-dateutil>=2.7 in ./.venv/lib/python3.11/site-packages (from matplotlib) (2.8.2)\n",
      "Requirement already satisfied: six>=1.5 in ./.venv/lib/python3.11/site-packages (from python-dateutil>=2.7->matplotlib) (1.16.0)\n",
      "Note: you may need to restart the kernel to use updated packages.\n"
     ]
    }
   ],
   "source": [
    "pip install matplotlib"
   ]
  },
  {
   "cell_type": "code",
   "execution_count": 5,
   "id": "ff217b8b-d5a6-4556-9a3f-ed5845c304a9",
   "metadata": {},
   "outputs": [],
   "source": [
    "import numpy as np\n",
    "import pandas as pd\n",
    "from gplearn.genetic import SymbolicRegressor\n",
    "from sklearn.model_selection import train_test_split\n",
    "from sklearn.preprocessing import OneHotEncoder\n",
    "from sklearn.metrics import mean_squared_error\n",
    "from sklearn.tree import DecisionTreeRegressor"
   ]
  },
  {
   "cell_type": "code",
   "execution_count": 6,
   "id": "72f65a01-05f2-465e-becf-48a606aa5350",
   "metadata": {},
   "outputs": [
    {
     "data": {
      "text/html": [
       "<div>\n",
       "<style scoped>\n",
       "    .dataframe tbody tr th:only-of-type {\n",
       "        vertical-align: middle;\n",
       "    }\n",
       "\n",
       "    .dataframe tbody tr th {\n",
       "        vertical-align: top;\n",
       "    }\n",
       "\n",
       "    .dataframe thead th {\n",
       "        text-align: right;\n",
       "    }\n",
       "</style>\n",
       "<table border=\"1\" class=\"dataframe\">\n",
       "  <thead>\n",
       "    <tr style=\"text-align: right;\">\n",
       "      <th></th>\n",
       "      <th>CAN_LAST_SRTR_PEAK_PRA</th>\n",
       "      <th>DON_RACE</th>\n",
       "      <th>CAN_RACE</th>\n",
       "      <th>CAN_GENDER</th>\n",
       "      <th>DON_GENDER</th>\n",
       "      <th>GL</th>\n",
       "      <th>DAYS</th>\n",
       "      <th>DON_BMI</th>\n",
       "      <th>REC_BMI</th>\n",
       "      <th>REC_AGE_AT_TX</th>\n",
       "      <th>...</th>\n",
       "      <th>REC_AGE_AT_TX_CAT</th>\n",
       "      <th>DON_AGE_CAT</th>\n",
       "      <th>REC_BMI_CAT</th>\n",
       "      <th>DON_BMI_CAT</th>\n",
       "      <th>DON_RELATIONSHIP_TY_CAT</th>\n",
       "      <th>CAN_LAST_SRTR_PEAK_PRA_CAT</th>\n",
       "      <th>AbvMismatch10</th>\n",
       "      <th>AbvMismatch12</th>\n",
       "      <th>Avg_EMS_18</th>\n",
       "      <th>Avg_EMS_30</th>\n",
       "    </tr>\n",
       "  </thead>\n",
       "  <tbody>\n",
       "    <tr>\n",
       "      <th>0</th>\n",
       "      <td>0.000000</td>\n",
       "      <td>Whites</td>\n",
       "      <td>Whites</td>\n",
       "      <td>b'M'</td>\n",
       "      <td>b'F'</td>\n",
       "      <td>0.0</td>\n",
       "      <td>12342</td>\n",
       "      <td>26.970357</td>\n",
       "      <td>21.077200</td>\n",
       "      <td>30.0</td>\n",
       "      <td>...</td>\n",
       "      <td>&lt; 40</td>\n",
       "      <td>&lt; 40</td>\n",
       "      <td>0-30</td>\n",
       "      <td>0-30</td>\n",
       "      <td>Biological</td>\n",
       "      <td>0-19</td>\n",
       "      <td>&lt;= 10</td>\n",
       "      <td>&lt;= 12</td>\n",
       "      <td>&lt;= 1.8</td>\n",
       "      <td>&lt;= 3.0</td>\n",
       "    </tr>\n",
       "    <tr>\n",
       "      <th>1</th>\n",
       "      <td>3.000000</td>\n",
       "      <td>Blacks</td>\n",
       "      <td>Blacks</td>\n",
       "      <td>b'M'</td>\n",
       "      <td>b'F'</td>\n",
       "      <td>1.0</td>\n",
       "      <td>1123</td>\n",
       "      <td>26.970357</td>\n",
       "      <td>20.136200</td>\n",
       "      <td>24.0</td>\n",
       "      <td>...</td>\n",
       "      <td>&lt; 40</td>\n",
       "      <td>&lt; 40</td>\n",
       "      <td>0-30</td>\n",
       "      <td>0-30</td>\n",
       "      <td>Biological</td>\n",
       "      <td>0-19</td>\n",
       "      <td>&lt;= 10</td>\n",
       "      <td>&lt;= 12</td>\n",
       "      <td>&lt;= 1.8</td>\n",
       "      <td>&lt;= 3.0</td>\n",
       "    </tr>\n",
       "    <tr>\n",
       "      <th>2</th>\n",
       "      <td>7.000000</td>\n",
       "      <td>Whites</td>\n",
       "      <td>Blacks</td>\n",
       "      <td>b'F'</td>\n",
       "      <td>b'F'</td>\n",
       "      <td>0.0</td>\n",
       "      <td>7306</td>\n",
       "      <td>26.970357</td>\n",
       "      <td>20.156200</td>\n",
       "      <td>29.0</td>\n",
       "      <td>...</td>\n",
       "      <td>&lt; 40</td>\n",
       "      <td>&lt; 40</td>\n",
       "      <td>0-30</td>\n",
       "      <td>0-30</td>\n",
       "      <td>Biological</td>\n",
       "      <td>0-19</td>\n",
       "      <td>&lt;= 10</td>\n",
       "      <td>&lt;= 12</td>\n",
       "      <td>&lt;= 1.8</td>\n",
       "      <td>&lt;= 3.0</td>\n",
       "    </tr>\n",
       "    <tr>\n",
       "      <th>3</th>\n",
       "      <td>17.000000</td>\n",
       "      <td>Blacks</td>\n",
       "      <td>Blacks</td>\n",
       "      <td>b'F'</td>\n",
       "      <td>b'F'</td>\n",
       "      <td>1.0</td>\n",
       "      <td>1532</td>\n",
       "      <td>26.970357</td>\n",
       "      <td>35.357100</td>\n",
       "      <td>46.0</td>\n",
       "      <td>...</td>\n",
       "      <td>41 - 60</td>\n",
       "      <td>&lt; 40</td>\n",
       "      <td>&gt; 30</td>\n",
       "      <td>0-30</td>\n",
       "      <td>Biological</td>\n",
       "      <td>0-19</td>\n",
       "      <td>&gt;10</td>\n",
       "      <td>&gt;12</td>\n",
       "      <td>&gt;1.8</td>\n",
       "      <td>&gt;3.0</td>\n",
       "    </tr>\n",
       "    <tr>\n",
       "      <th>4</th>\n",
       "      <td>0.000000</td>\n",
       "      <td>Whites</td>\n",
       "      <td>Whites</td>\n",
       "      <td>b'F'</td>\n",
       "      <td>b'F'</td>\n",
       "      <td>1.0</td>\n",
       "      <td>4885</td>\n",
       "      <td>26.970357</td>\n",
       "      <td>35.380348</td>\n",
       "      <td>31.0</td>\n",
       "      <td>...</td>\n",
       "      <td>&lt; 40</td>\n",
       "      <td>&lt; 40</td>\n",
       "      <td>&gt; 30</td>\n",
       "      <td>0-30</td>\n",
       "      <td>Biological</td>\n",
       "      <td>0-19</td>\n",
       "      <td>&gt;10</td>\n",
       "      <td>&gt;12</td>\n",
       "      <td>&gt;1.8</td>\n",
       "      <td>&lt;= 3.0</td>\n",
       "    </tr>\n",
       "    <tr>\n",
       "      <th>5</th>\n",
       "      <td>0.000000</td>\n",
       "      <td>Whites</td>\n",
       "      <td>Whites</td>\n",
       "      <td>b'M'</td>\n",
       "      <td>b'M'</td>\n",
       "      <td>1.0</td>\n",
       "      <td>883</td>\n",
       "      <td>26.970357</td>\n",
       "      <td>25.912100</td>\n",
       "      <td>28.0</td>\n",
       "      <td>...</td>\n",
       "      <td>&lt; 40</td>\n",
       "      <td>41 - 60</td>\n",
       "      <td>0-30</td>\n",
       "      <td>0-30</td>\n",
       "      <td>Biological</td>\n",
       "      <td>0-19</td>\n",
       "      <td>&gt;10</td>\n",
       "      <td>&lt;= 12</td>\n",
       "      <td>&gt;1.8</td>\n",
       "      <td>&gt;3.0</td>\n",
       "    </tr>\n",
       "    <tr>\n",
       "      <th>6</th>\n",
       "      <td>17.870563</td>\n",
       "      <td>Whites</td>\n",
       "      <td>Whites</td>\n",
       "      <td>b'M'</td>\n",
       "      <td>b'M'</td>\n",
       "      <td>1.0</td>\n",
       "      <td>883</td>\n",
       "      <td>26.970357</td>\n",
       "      <td>27.859900</td>\n",
       "      <td>28.0</td>\n",
       "      <td>...</td>\n",
       "      <td>&lt; 40</td>\n",
       "      <td>&gt; 60</td>\n",
       "      <td>0-30</td>\n",
       "      <td>0-30</td>\n",
       "      <td>Biological</td>\n",
       "      <td>0-19</td>\n",
       "      <td>&gt;10</td>\n",
       "      <td>&lt;= 12</td>\n",
       "      <td>&gt;1.8</td>\n",
       "      <td>&gt;3.0</td>\n",
       "    </tr>\n",
       "    <tr>\n",
       "      <th>7</th>\n",
       "      <td>0.000000</td>\n",
       "      <td>Whites</td>\n",
       "      <td>Whites</td>\n",
       "      <td>b'M'</td>\n",
       "      <td>b'M'</td>\n",
       "      <td>1.0</td>\n",
       "      <td>874</td>\n",
       "      <td>26.970357</td>\n",
       "      <td>25.912100</td>\n",
       "      <td>30.0</td>\n",
       "      <td>...</td>\n",
       "      <td>&lt; 40</td>\n",
       "      <td>41 - 60</td>\n",
       "      <td>0-30</td>\n",
       "      <td>0-30</td>\n",
       "      <td>Biological</td>\n",
       "      <td>0-19</td>\n",
       "      <td>&gt;10</td>\n",
       "      <td>&lt;= 12</td>\n",
       "      <td>&gt;1.8</td>\n",
       "      <td>&gt;3.0</td>\n",
       "    </tr>\n",
       "    <tr>\n",
       "      <th>8</th>\n",
       "      <td>17.870563</td>\n",
       "      <td>Whites</td>\n",
       "      <td>Whites</td>\n",
       "      <td>b'M'</td>\n",
       "      <td>b'M'</td>\n",
       "      <td>1.0</td>\n",
       "      <td>874</td>\n",
       "      <td>26.970357</td>\n",
       "      <td>27.859900</td>\n",
       "      <td>30.0</td>\n",
       "      <td>...</td>\n",
       "      <td>&lt; 40</td>\n",
       "      <td>&gt; 60</td>\n",
       "      <td>0-30</td>\n",
       "      <td>0-30</td>\n",
       "      <td>Biological</td>\n",
       "      <td>0-19</td>\n",
       "      <td>&gt;10</td>\n",
       "      <td>&lt;= 12</td>\n",
       "      <td>&gt;1.8</td>\n",
       "      <td>&gt;3.0</td>\n",
       "    </tr>\n",
       "    <tr>\n",
       "      <th>9</th>\n",
       "      <td>0.000000</td>\n",
       "      <td>Whites</td>\n",
       "      <td>Whites</td>\n",
       "      <td>b'M'</td>\n",
       "      <td>b'M'</td>\n",
       "      <td>1.0</td>\n",
       "      <td>883</td>\n",
       "      <td>26.970357</td>\n",
       "      <td>25.912100</td>\n",
       "      <td>28.0</td>\n",
       "      <td>...</td>\n",
       "      <td>&lt; 40</td>\n",
       "      <td>41 - 60</td>\n",
       "      <td>0-30</td>\n",
       "      <td>0-30</td>\n",
       "      <td>Biological</td>\n",
       "      <td>0-19</td>\n",
       "      <td>&gt;10</td>\n",
       "      <td>&lt;= 12</td>\n",
       "      <td>&gt;1.8</td>\n",
       "      <td>&gt;3.0</td>\n",
       "    </tr>\n",
       "  </tbody>\n",
       "</table>\n",
       "<p>10 rows × 68 columns</p>\n",
       "</div>"
      ],
      "text/plain": [
       "   CAN_LAST_SRTR_PEAK_PRA DON_RACE CAN_RACE CAN_GENDER DON_GENDER   GL   DAYS  \\\n",
       "0                0.000000   Whites   Whites       b'M'       b'F'  0.0  12342   \n",
       "1                3.000000   Blacks   Blacks       b'M'       b'F'  1.0   1123   \n",
       "2                7.000000   Whites   Blacks       b'F'       b'F'  0.0   7306   \n",
       "3               17.000000   Blacks   Blacks       b'F'       b'F'  1.0   1532   \n",
       "4                0.000000   Whites   Whites       b'F'       b'F'  1.0   4885   \n",
       "5                0.000000   Whites   Whites       b'M'       b'M'  1.0    883   \n",
       "6               17.870563   Whites   Whites       b'M'       b'M'  1.0    883   \n",
       "7                0.000000   Whites   Whites       b'M'       b'M'  1.0    874   \n",
       "8               17.870563   Whites   Whites       b'M'       b'M'  1.0    874   \n",
       "9                0.000000   Whites   Whites       b'M'       b'M'  1.0    883   \n",
       "\n",
       "     DON_BMI    REC_BMI  REC_AGE_AT_TX  ...  REC_AGE_AT_TX_CAT  DON_AGE_CAT  \\\n",
       "0  26.970357  21.077200           30.0  ...               < 40         < 40   \n",
       "1  26.970357  20.136200           24.0  ...               < 40         < 40   \n",
       "2  26.970357  20.156200           29.0  ...               < 40         < 40   \n",
       "3  26.970357  35.357100           46.0  ...            41 - 60         < 40   \n",
       "4  26.970357  35.380348           31.0  ...               < 40         < 40   \n",
       "5  26.970357  25.912100           28.0  ...               < 40      41 - 60   \n",
       "6  26.970357  27.859900           28.0  ...               < 40         > 60   \n",
       "7  26.970357  25.912100           30.0  ...               < 40      41 - 60   \n",
       "8  26.970357  27.859900           30.0  ...               < 40         > 60   \n",
       "9  26.970357  25.912100           28.0  ...               < 40      41 - 60   \n",
       "\n",
       "   REC_BMI_CAT  DON_BMI_CAT DON_RELATIONSHIP_TY_CAT  \\\n",
       "0         0-30         0-30              Biological   \n",
       "1         0-30         0-30              Biological   \n",
       "2         0-30         0-30              Biological   \n",
       "3         > 30         0-30              Biological   \n",
       "4         > 30         0-30              Biological   \n",
       "5         0-30         0-30              Biological   \n",
       "6         0-30         0-30              Biological   \n",
       "7         0-30         0-30              Biological   \n",
       "8         0-30         0-30              Biological   \n",
       "9         0-30         0-30              Biological   \n",
       "\n",
       "  CAN_LAST_SRTR_PEAK_PRA_CAT  AbvMismatch10  AbvMismatch12 Avg_EMS_18  \\\n",
       "0                       0-19          <= 10          <= 12     <= 1.8   \n",
       "1                       0-19          <= 10          <= 12     <= 1.8   \n",
       "2                       0-19          <= 10          <= 12     <= 1.8   \n",
       "3                       0-19            >10            >12       >1.8   \n",
       "4                       0-19            >10            >12       >1.8   \n",
       "5                       0-19            >10          <= 12       >1.8   \n",
       "6                       0-19            >10          <= 12       >1.8   \n",
       "7                       0-19            >10          <= 12       >1.8   \n",
       "8                       0-19            >10          <= 12       >1.8   \n",
       "9                       0-19            >10          <= 12       >1.8   \n",
       "\n",
       "   Avg_EMS_30  \n",
       "0      <= 3.0  \n",
       "1      <= 3.0  \n",
       "2      <= 3.0  \n",
       "3        >3.0  \n",
       "4      <= 3.0  \n",
       "5        >3.0  \n",
       "6        >3.0  \n",
       "7        >3.0  \n",
       "8        >3.0  \n",
       "9        >3.0  \n",
       "\n",
       "[10 rows x 68 columns]"
      ]
     },
     "execution_count": 6,
     "metadata": {},
     "output_type": "execute_result"
    }
   ],
   "source": [
    "dataset_survival = pd.read_csv('/home/kidneyData/GP_Survival/dataset_regfinaldata_livingDon_2022_redoMAR30.csv', encoding=\"latin1\", low_memory=False)\n",
    "dataset_survival.drop(columns=dataset_survival.columns[0], axis=1, inplace=True)\n",
    "dataset_survival.head(10)"
   ]
  },
  {
   "cell_type": "code",
   "execution_count": 7,
   "id": "227de534-d364-4963-95be-28a50475a753",
   "metadata": {},
   "outputs": [],
   "source": [
    "dummy_cols = dataset_survival.select_dtypes(include = ['object']).columns.to_list()"
   ]
  },
  {
   "cell_type": "code",
   "execution_count": 8,
   "id": "bb580d5d-6c68-45be-9c9c-4d7e0e6e0b7d",
   "metadata": {},
   "outputs": [
    {
     "data": {
      "text/html": [
       "<div>\n",
       "<style scoped>\n",
       "    .dataframe tbody tr th:only-of-type {\n",
       "        vertical-align: middle;\n",
       "    }\n",
       "\n",
       "    .dataframe tbody tr th {\n",
       "        vertical-align: top;\n",
       "    }\n",
       "\n",
       "    .dataframe thead th {\n",
       "        text-align: right;\n",
       "    }\n",
       "</style>\n",
       "<table border=\"1\" class=\"dataframe\">\n",
       "  <thead>\n",
       "    <tr style=\"text-align: right;\">\n",
       "      <th></th>\n",
       "      <th>CAN_LAST_SRTR_PEAK_PRA</th>\n",
       "      <th>GL</th>\n",
       "      <th>DAYS</th>\n",
       "      <th>DON_BMI</th>\n",
       "      <th>REC_BMI</th>\n",
       "      <th>REC_AGE_AT_TX</th>\n",
       "      <th>DON_AGE</th>\n",
       "      <th>Avg_EMS</th>\n",
       "      <th>AbvMismatch</th>\n",
       "      <th>DON_RELATIONSHIP_TY</th>\n",
       "      <th>...</th>\n",
       "      <th>REC_BMI_CAT_&gt; 30</th>\n",
       "      <th>DON_BMI_CAT_&gt; 30</th>\n",
       "      <th>DON_RELATIONSHIP_TY_CAT_Non-Biological</th>\n",
       "      <th>DON_RELATIONSHIP_TY_CAT_Unknown</th>\n",
       "      <th>CAN_LAST_SRTR_PEAK_PRA_CAT_19 - 95</th>\n",
       "      <th>CAN_LAST_SRTR_PEAK_PRA_CAT_&gt; 95</th>\n",
       "      <th>AbvMismatch10_&gt;10</th>\n",
       "      <th>AbvMismatch12_&gt;12</th>\n",
       "      <th>Avg_EMS_18_&gt;1.8</th>\n",
       "      <th>Avg_EMS_30_&gt;3.0</th>\n",
       "    </tr>\n",
       "  </thead>\n",
       "  <tbody>\n",
       "    <tr>\n",
       "      <th>0</th>\n",
       "      <td>0.000000</td>\n",
       "      <td>0.0</td>\n",
       "      <td>12342</td>\n",
       "      <td>26.970357</td>\n",
       "      <td>21.077200</td>\n",
       "      <td>30.0</td>\n",
       "      <td>23.0</td>\n",
       "      <td>0.00000</td>\n",
       "      <td>0</td>\n",
       "      <td>4.0</td>\n",
       "      <td>...</td>\n",
       "      <td>0</td>\n",
       "      <td>0</td>\n",
       "      <td>0</td>\n",
       "      <td>0</td>\n",
       "      <td>0</td>\n",
       "      <td>0</td>\n",
       "      <td>0</td>\n",
       "      <td>0</td>\n",
       "      <td>0</td>\n",
       "      <td>0</td>\n",
       "    </tr>\n",
       "    <tr>\n",
       "      <th>1</th>\n",
       "      <td>3.000000</td>\n",
       "      <td>1.0</td>\n",
       "      <td>1123</td>\n",
       "      <td>26.970357</td>\n",
       "      <td>20.136200</td>\n",
       "      <td>24.0</td>\n",
       "      <td>36.0</td>\n",
       "      <td>0.00000</td>\n",
       "      <td>0</td>\n",
       "      <td>4.0</td>\n",
       "      <td>...</td>\n",
       "      <td>0</td>\n",
       "      <td>0</td>\n",
       "      <td>0</td>\n",
       "      <td>0</td>\n",
       "      <td>0</td>\n",
       "      <td>0</td>\n",
       "      <td>0</td>\n",
       "      <td>0</td>\n",
       "      <td>0</td>\n",
       "      <td>0</td>\n",
       "    </tr>\n",
       "    <tr>\n",
       "      <th>2</th>\n",
       "      <td>7.000000</td>\n",
       "      <td>0.0</td>\n",
       "      <td>7306</td>\n",
       "      <td>26.970357</td>\n",
       "      <td>20.156200</td>\n",
       "      <td>29.0</td>\n",
       "      <td>22.0</td>\n",
       "      <td>0.00000</td>\n",
       "      <td>0</td>\n",
       "      <td>4.0</td>\n",
       "      <td>...</td>\n",
       "      <td>0</td>\n",
       "      <td>0</td>\n",
       "      <td>0</td>\n",
       "      <td>0</td>\n",
       "      <td>0</td>\n",
       "      <td>0</td>\n",
       "      <td>0</td>\n",
       "      <td>0</td>\n",
       "      <td>0</td>\n",
       "      <td>0</td>\n",
       "    </tr>\n",
       "    <tr>\n",
       "      <th>3</th>\n",
       "      <td>17.000000</td>\n",
       "      <td>1.0</td>\n",
       "      <td>1532</td>\n",
       "      <td>26.970357</td>\n",
       "      <td>35.357100</td>\n",
       "      <td>46.0</td>\n",
       "      <td>39.0</td>\n",
       "      <td>12.80500</td>\n",
       "      <td>19</td>\n",
       "      <td>4.0</td>\n",
       "      <td>...</td>\n",
       "      <td>1</td>\n",
       "      <td>0</td>\n",
       "      <td>0</td>\n",
       "      <td>0</td>\n",
       "      <td>0</td>\n",
       "      <td>0</td>\n",
       "      <td>1</td>\n",
       "      <td>1</td>\n",
       "      <td>1</td>\n",
       "      <td>1</td>\n",
       "    </tr>\n",
       "    <tr>\n",
       "      <th>4</th>\n",
       "      <td>0.000000</td>\n",
       "      <td>1.0</td>\n",
       "      <td>4885</td>\n",
       "      <td>26.970357</td>\n",
       "      <td>35.380348</td>\n",
       "      <td>31.0</td>\n",
       "      <td>22.0</td>\n",
       "      <td>2.93500</td>\n",
       "      <td>15</td>\n",
       "      <td>4.0</td>\n",
       "      <td>...</td>\n",
       "      <td>1</td>\n",
       "      <td>0</td>\n",
       "      <td>0</td>\n",
       "      <td>0</td>\n",
       "      <td>0</td>\n",
       "      <td>0</td>\n",
       "      <td>1</td>\n",
       "      <td>1</td>\n",
       "      <td>1</td>\n",
       "      <td>0</td>\n",
       "    </tr>\n",
       "    <tr>\n",
       "      <th>5</th>\n",
       "      <td>0.000000</td>\n",
       "      <td>1.0</td>\n",
       "      <td>883</td>\n",
       "      <td>26.970357</td>\n",
       "      <td>25.912100</td>\n",
       "      <td>28.0</td>\n",
       "      <td>43.0</td>\n",
       "      <td>4.49375</td>\n",
       "      <td>12</td>\n",
       "      <td>4.0</td>\n",
       "      <td>...</td>\n",
       "      <td>0</td>\n",
       "      <td>0</td>\n",
       "      <td>0</td>\n",
       "      <td>0</td>\n",
       "      <td>0</td>\n",
       "      <td>0</td>\n",
       "      <td>1</td>\n",
       "      <td>0</td>\n",
       "      <td>1</td>\n",
       "      <td>1</td>\n",
       "    </tr>\n",
       "    <tr>\n",
       "      <th>6</th>\n",
       "      <td>17.870563</td>\n",
       "      <td>1.0</td>\n",
       "      <td>883</td>\n",
       "      <td>26.970357</td>\n",
       "      <td>27.859900</td>\n",
       "      <td>28.0</td>\n",
       "      <td>69.0</td>\n",
       "      <td>4.49375</td>\n",
       "      <td>12</td>\n",
       "      <td>1.0</td>\n",
       "      <td>...</td>\n",
       "      <td>0</td>\n",
       "      <td>0</td>\n",
       "      <td>0</td>\n",
       "      <td>0</td>\n",
       "      <td>0</td>\n",
       "      <td>0</td>\n",
       "      <td>1</td>\n",
       "      <td>0</td>\n",
       "      <td>1</td>\n",
       "      <td>1</td>\n",
       "    </tr>\n",
       "    <tr>\n",
       "      <th>7</th>\n",
       "      <td>0.000000</td>\n",
       "      <td>1.0</td>\n",
       "      <td>874</td>\n",
       "      <td>26.970357</td>\n",
       "      <td>25.912100</td>\n",
       "      <td>30.0</td>\n",
       "      <td>43.0</td>\n",
       "      <td>4.49375</td>\n",
       "      <td>12</td>\n",
       "      <td>4.0</td>\n",
       "      <td>...</td>\n",
       "      <td>0</td>\n",
       "      <td>0</td>\n",
       "      <td>0</td>\n",
       "      <td>0</td>\n",
       "      <td>0</td>\n",
       "      <td>0</td>\n",
       "      <td>1</td>\n",
       "      <td>0</td>\n",
       "      <td>1</td>\n",
       "      <td>1</td>\n",
       "    </tr>\n",
       "    <tr>\n",
       "      <th>8</th>\n",
       "      <td>17.870563</td>\n",
       "      <td>1.0</td>\n",
       "      <td>874</td>\n",
       "      <td>26.970357</td>\n",
       "      <td>27.859900</td>\n",
       "      <td>30.0</td>\n",
       "      <td>69.0</td>\n",
       "      <td>4.49375</td>\n",
       "      <td>12</td>\n",
       "      <td>1.0</td>\n",
       "      <td>...</td>\n",
       "      <td>0</td>\n",
       "      <td>0</td>\n",
       "      <td>0</td>\n",
       "      <td>0</td>\n",
       "      <td>0</td>\n",
       "      <td>0</td>\n",
       "      <td>1</td>\n",
       "      <td>0</td>\n",
       "      <td>1</td>\n",
       "      <td>1</td>\n",
       "    </tr>\n",
       "    <tr>\n",
       "      <th>9</th>\n",
       "      <td>0.000000</td>\n",
       "      <td>1.0</td>\n",
       "      <td>883</td>\n",
       "      <td>26.970357</td>\n",
       "      <td>25.912100</td>\n",
       "      <td>28.0</td>\n",
       "      <td>43.0</td>\n",
       "      <td>3.41625</td>\n",
       "      <td>12</td>\n",
       "      <td>4.0</td>\n",
       "      <td>...</td>\n",
       "      <td>0</td>\n",
       "      <td>0</td>\n",
       "      <td>0</td>\n",
       "      <td>0</td>\n",
       "      <td>0</td>\n",
       "      <td>0</td>\n",
       "      <td>1</td>\n",
       "      <td>0</td>\n",
       "      <td>1</td>\n",
       "      <td>1</td>\n",
       "    </tr>\n",
       "  </tbody>\n",
       "</table>\n",
       "<p>10 rows × 104 columns</p>\n",
       "</div>"
      ],
      "text/plain": [
       "   CAN_LAST_SRTR_PEAK_PRA   GL   DAYS    DON_BMI    REC_BMI  REC_AGE_AT_TX  \\\n",
       "0                0.000000  0.0  12342  26.970357  21.077200           30.0   \n",
       "1                3.000000  1.0   1123  26.970357  20.136200           24.0   \n",
       "2                7.000000  0.0   7306  26.970357  20.156200           29.0   \n",
       "3               17.000000  1.0   1532  26.970357  35.357100           46.0   \n",
       "4                0.000000  1.0   4885  26.970357  35.380348           31.0   \n",
       "5                0.000000  1.0    883  26.970357  25.912100           28.0   \n",
       "6               17.870563  1.0    883  26.970357  27.859900           28.0   \n",
       "7                0.000000  1.0    874  26.970357  25.912100           30.0   \n",
       "8               17.870563  1.0    874  26.970357  27.859900           30.0   \n",
       "9                0.000000  1.0    883  26.970357  25.912100           28.0   \n",
       "\n",
       "   DON_AGE   Avg_EMS  AbvMismatch  DON_RELATIONSHIP_TY  ...  REC_BMI_CAT_> 30  \\\n",
       "0     23.0   0.00000            0                  4.0  ...                 0   \n",
       "1     36.0   0.00000            0                  4.0  ...                 0   \n",
       "2     22.0   0.00000            0                  4.0  ...                 0   \n",
       "3     39.0  12.80500           19                  4.0  ...                 1   \n",
       "4     22.0   2.93500           15                  4.0  ...                 1   \n",
       "5     43.0   4.49375           12                  4.0  ...                 0   \n",
       "6     69.0   4.49375           12                  1.0  ...                 0   \n",
       "7     43.0   4.49375           12                  4.0  ...                 0   \n",
       "8     69.0   4.49375           12                  1.0  ...                 0   \n",
       "9     43.0   3.41625           12                  4.0  ...                 0   \n",
       "\n",
       "   DON_BMI_CAT_> 30  DON_RELATIONSHIP_TY_CAT_Non-Biological  \\\n",
       "0                 0                                       0   \n",
       "1                 0                                       0   \n",
       "2                 0                                       0   \n",
       "3                 0                                       0   \n",
       "4                 0                                       0   \n",
       "5                 0                                       0   \n",
       "6                 0                                       0   \n",
       "7                 0                                       0   \n",
       "8                 0                                       0   \n",
       "9                 0                                       0   \n",
       "\n",
       "   DON_RELATIONSHIP_TY_CAT_Unknown  CAN_LAST_SRTR_PEAK_PRA_CAT_19 - 95  \\\n",
       "0                                0                                   0   \n",
       "1                                0                                   0   \n",
       "2                                0                                   0   \n",
       "3                                0                                   0   \n",
       "4                                0                                   0   \n",
       "5                                0                                   0   \n",
       "6                                0                                   0   \n",
       "7                                0                                   0   \n",
       "8                                0                                   0   \n",
       "9                                0                                   0   \n",
       "\n",
       "   CAN_LAST_SRTR_PEAK_PRA_CAT_> 95  AbvMismatch10_>10  AbvMismatch12_>12  \\\n",
       "0                                0                  0                  0   \n",
       "1                                0                  0                  0   \n",
       "2                                0                  0                  0   \n",
       "3                                0                  1                  1   \n",
       "4                                0                  1                  1   \n",
       "5                                0                  1                  0   \n",
       "6                                0                  1                  0   \n",
       "7                                0                  1                  0   \n",
       "8                                0                  1                  0   \n",
       "9                                0                  1                  0   \n",
       "\n",
       "   Avg_EMS_18_>1.8  Avg_EMS_30_>3.0  \n",
       "0                0                0  \n",
       "1                0                0  \n",
       "2                0                0  \n",
       "3                1                1  \n",
       "4                1                0  \n",
       "5                1                1  \n",
       "6                1                1  \n",
       "7                1                1  \n",
       "8                1                1  \n",
       "9                1                1  \n",
       "\n",
       "[10 rows x 104 columns]"
      ]
     },
     "execution_count": 8,
     "metadata": {},
     "output_type": "execute_result"
    }
   ],
   "source": [
    "train_data = pd.get_dummies(data=dataset_survival, columns=dummy_cols, drop_first = True, dtype = int)\n",
    "train_data.head(10)"
   ]
  },
  {
   "cell_type": "code",
   "execution_count": 9,
   "id": "7ce0c88f-fbbf-44c1-acf9-8c66e1d02a13",
   "metadata": {},
   "outputs": [],
   "source": [
    "# Create a DataFrame\n",
    "# df = pd.DataFrame(data)\n",
    "df = pd.DataFrame(dataset_survival)"
   ]
  },
  {
   "cell_type": "code",
   "execution_count": 10,
   "id": "b8ce0825-5649-49da-b59a-15fda819de49",
   "metadata": {},
   "outputs": [
    {
     "data": {
      "text/plain": [
       "0        26\n",
       "1        25\n",
       "2        25\n",
       "3        27\n",
       "4        25\n",
       "         ..\n",
       "93578    16\n",
       "93579    18\n",
       "93580    16\n",
       "93581    16\n",
       "93582    16\n",
       "Length: 93583, dtype: int64"
      ]
     },
     "execution_count": 10,
     "metadata": {},
     "output_type": "execute_result"
    }
   ],
   "source": [
    "df.isnull().sum(axis=1)"
   ]
  },
  {
   "cell_type": "code",
   "execution_count": 11,
   "id": "8360c8bc-29d3-461a-9b16-16167f1ff60c",
   "metadata": {},
   "outputs": [
    {
     "data": {
      "text/plain": [
       "Index(['CAN_LAST_SRTR_PEAK_PRA', 'DON_RACE', 'CAN_RACE', 'CAN_GENDER',\n",
       "       'DON_GENDER', 'GL', 'DAYS', 'DON_BMI', 'REC_BMI', 'REC_AGE_AT_TX',\n",
       "       'DON_AGE', 'Avg_EMS', 'AbvMismatch', 'DON_RELATIONSHIP_TY', 'CAN_ABO',\n",
       "       'DON_ABO', 'DON_HIST_DIAB', 'CAN_DIAB', 'DON_HTN', 'DON_HIST_HYPERTEN',\n",
       "       'CAN_DRUG_TREAT_HYPERTEN', 'CAN_PREV_KI', 'DON_TY', 'REC_DIAL_TY',\n",
       "       'REC_PRETX_DIAL', 'REC_PROD_URINE_GT40_24HRS', 'REC_MALIG',\n",
       "       'REC_MED_COND', 'REC_MED_COND.1', 'REC_MED_COND.2', 'REC_MED_COND.3',\n",
       "       'REC_HOSP_90_DAYS', 'REC_TUMOR', 'REC_ORG_RECEIVED_ON',\n",
       "       'CAN_ANGINA_CAD', 'CAN_ANGINA_CAD.1', 'CAN_ANGINA_CAD.2',\n",
       "       'CAN_ANGINA_CAD.3', 'CAN_ANGINA_CAD.4', 'CAN_ANGINA_CAD.5',\n",
       "       'CAN_ANGINA_CAD.6', 'CAN_ANGINA_CAD.7', 'DON_EXPAND_DON_KI',\n",
       "       'REC_FUNCTN_STAT', 'REC_CMV_STAT', 'CAN_AGE_DIAB', 'CAN_DIAB_TY',\n",
       "       'REC_COLD_ISCH_TM', 'REC_WARM_ISCH_TM', 'DON_WARM_ISCH_TM_MINS',\n",
       "       'REC_EBV_STAT', 'REC_HCV_STAT', 'REC_HIV_STAT', 'REC_MED_COND.4',\n",
       "       'REC_MED_COND.5', 'REC_MED_COND.6', 'REC_MED_COND.7',\n",
       "       'CAN_PEPTIC_ULCER', 'REC_AGE_AT_TX_CAT', 'DON_AGE_CAT', 'REC_BMI_CAT',\n",
       "       'DON_BMI_CAT', 'DON_RELATIONSHIP_TY_CAT', 'CAN_LAST_SRTR_PEAK_PRA_CAT',\n",
       "       'AbvMismatch10', 'AbvMismatch12', 'Avg_EMS_18', 'Avg_EMS_30'],\n",
       "      dtype='object')"
      ]
     },
     "execution_count": 11,
     "metadata": {},
     "output_type": "execute_result"
    }
   ],
   "source": [
    "df.columns"
   ]
  },
  {
   "cell_type": "code",
   "execution_count": 12,
   "id": "b0607d64-33a4-4616-9640-be2cdf3985ff",
   "metadata": {},
   "outputs": [],
   "source": [
    "df = df.fillna(0)  # Replace 0 with any other constant as needed"
   ]
  },
  {
   "cell_type": "code",
   "execution_count": 13,
   "id": "7d61db77-c282-4e25-bf93-b57e6b60fcf0",
   "metadata": {},
   "outputs": [
    {
     "name": "stdout",
     "output_type": "stream",
     "text": [
      "Total null values in the DataFrame: 0\n"
     ]
    }
   ],
   "source": [
    "total_nulls = df.isnull().sum().sum()\n",
    "print(f\"Total null values in the DataFrame: {total_nulls}\")"
   ]
  },
  {
   "cell_type": "code",
   "execution_count": 14,
   "id": "6e960e70-0fec-453d-9b7b-88b4a2b974e7",
   "metadata": {},
   "outputs": [],
   "source": [
    "# Define your target variable and features\n",
    "y = train_data['DAYS']\n",
    "X = train_data.drop('DAYS', axis=1)"
   ]
  },
  {
   "cell_type": "code",
   "execution_count": 15,
   "id": "3c9abc20-8f29-41bc-aaaa-f568b1be979f",
   "metadata": {},
   "outputs": [],
   "source": [
    "# Initialize the DecisionTreeRegressor\n",
    "dtree = DecisionTreeRegressor(random_state=42)"
   ]
  },
  {
   "cell_type": "code",
   "execution_count": 16,
   "id": "63b6ac74-d480-47cc-b3fa-2eb1d34dcc7a",
   "metadata": {},
   "outputs": [
    {
     "data": {
      "text/html": [
       "<style>#sk-container-id-1 {color: black;}#sk-container-id-1 pre{padding: 0;}#sk-container-id-1 div.sk-toggleable {background-color: white;}#sk-container-id-1 label.sk-toggleable__label {cursor: pointer;display: block;width: 100%;margin-bottom: 0;padding: 0.3em;box-sizing: border-box;text-align: center;}#sk-container-id-1 label.sk-toggleable__label-arrow:before {content: \"▸\";float: left;margin-right: 0.25em;color: #696969;}#sk-container-id-1 label.sk-toggleable__label-arrow:hover:before {color: black;}#sk-container-id-1 div.sk-estimator:hover label.sk-toggleable__label-arrow:before {color: black;}#sk-container-id-1 div.sk-toggleable__content {max-height: 0;max-width: 0;overflow: hidden;text-align: left;background-color: #f0f8ff;}#sk-container-id-1 div.sk-toggleable__content pre {margin: 0.2em;color: black;border-radius: 0.25em;background-color: #f0f8ff;}#sk-container-id-1 input.sk-toggleable__control:checked~div.sk-toggleable__content {max-height: 200px;max-width: 100%;overflow: auto;}#sk-container-id-1 input.sk-toggleable__control:checked~label.sk-toggleable__label-arrow:before {content: \"▾\";}#sk-container-id-1 div.sk-estimator input.sk-toggleable__control:checked~label.sk-toggleable__label {background-color: #d4ebff;}#sk-container-id-1 div.sk-label input.sk-toggleable__control:checked~label.sk-toggleable__label {background-color: #d4ebff;}#sk-container-id-1 input.sk-hidden--visually {border: 0;clip: rect(1px 1px 1px 1px);clip: rect(1px, 1px, 1px, 1px);height: 1px;margin: -1px;overflow: hidden;padding: 0;position: absolute;width: 1px;}#sk-container-id-1 div.sk-estimator {font-family: monospace;background-color: #f0f8ff;border: 1px dotted black;border-radius: 0.25em;box-sizing: border-box;margin-bottom: 0.5em;}#sk-container-id-1 div.sk-estimator:hover {background-color: #d4ebff;}#sk-container-id-1 div.sk-parallel-item::after {content: \"\";width: 100%;border-bottom: 1px solid gray;flex-grow: 1;}#sk-container-id-1 div.sk-label:hover label.sk-toggleable__label {background-color: #d4ebff;}#sk-container-id-1 div.sk-serial::before {content: \"\";position: absolute;border-left: 1px solid gray;box-sizing: border-box;top: 0;bottom: 0;left: 50%;z-index: 0;}#sk-container-id-1 div.sk-serial {display: flex;flex-direction: column;align-items: center;background-color: white;padding-right: 0.2em;padding-left: 0.2em;position: relative;}#sk-container-id-1 div.sk-item {position: relative;z-index: 1;}#sk-container-id-1 div.sk-parallel {display: flex;align-items: stretch;justify-content: center;background-color: white;position: relative;}#sk-container-id-1 div.sk-item::before, #sk-container-id-1 div.sk-parallel-item::before {content: \"\";position: absolute;border-left: 1px solid gray;box-sizing: border-box;top: 0;bottom: 0;left: 50%;z-index: -1;}#sk-container-id-1 div.sk-parallel-item {display: flex;flex-direction: column;z-index: 1;position: relative;background-color: white;}#sk-container-id-1 div.sk-parallel-item:first-child::after {align-self: flex-end;width: 50%;}#sk-container-id-1 div.sk-parallel-item:last-child::after {align-self: flex-start;width: 50%;}#sk-container-id-1 div.sk-parallel-item:only-child::after {width: 0;}#sk-container-id-1 div.sk-dashed-wrapped {border: 1px dashed gray;margin: 0 0.4em 0.5em 0.4em;box-sizing: border-box;padding-bottom: 0.4em;background-color: white;}#sk-container-id-1 div.sk-label label {font-family: monospace;font-weight: bold;display: inline-block;line-height: 1.2em;}#sk-container-id-1 div.sk-label-container {text-align: center;}#sk-container-id-1 div.sk-container {/* jupyter's `normalize.less` sets `[hidden] { display: none; }` but bootstrap.min.css set `[hidden] { display: none !important; }` so we also need the `!important` here to be able to override the default hidden behavior on the sphinx rendered scikit-learn.org. See: https://github.com/scikit-learn/scikit-learn/issues/21755 */display: inline-block !important;position: relative;}#sk-container-id-1 div.sk-text-repr-fallback {display: none;}</style><div id=\"sk-container-id-1\" class=\"sk-top-container\"><div class=\"sk-text-repr-fallback\"><pre>DecisionTreeRegressor(random_state=42)</pre><b>In a Jupyter environment, please rerun this cell to show the HTML representation or trust the notebook. <br />On GitHub, the HTML representation is unable to render, please try loading this page with nbviewer.org.</b></div><div class=\"sk-container\" hidden><div class=\"sk-item\"><div class=\"sk-estimator sk-toggleable\"><input class=\"sk-toggleable__control sk-hidden--visually\" id=\"sk-estimator-id-1\" type=\"checkbox\" checked><label for=\"sk-estimator-id-1\" class=\"sk-toggleable__label sk-toggleable__label-arrow\">DecisionTreeRegressor</label><div class=\"sk-toggleable__content\"><pre>DecisionTreeRegressor(random_state=42)</pre></div></div></div></div></div>"
      ],
      "text/plain": [
       "DecisionTreeRegressor(random_state=42)"
      ]
     },
     "execution_count": 16,
     "metadata": {},
     "output_type": "execute_result"
    }
   ],
   "source": [
    "# Fit the model\n",
    "dtree.fit(X, y)"
   ]
  },
  {
   "cell_type": "code",
   "execution_count": 17,
   "id": "569424ab-4257-437d-96ce-e73b04427ffc",
   "metadata": {},
   "outputs": [],
   "source": [
    "# Get feature importances\n",
    "importances = dtree.feature_importances_"
   ]
  },
  {
   "cell_type": "code",
   "execution_count": 18,
   "id": "9fa33edd-ef90-43a1-964f-fb8edc91331a",
   "metadata": {},
   "outputs": [],
   "source": [
    "# Create a DataFrame for easier handling\n",
    "feature_importance_df = pd.DataFrame({\n",
    "    'Feature': X.columns,\n",
    "    'Importance': importances\n",
    "})"
   ]
  },
  {
   "cell_type": "code",
   "execution_count": 19,
   "id": "3508a70a-201d-41d1-bab1-54855056f350",
   "metadata": {},
   "outputs": [
    {
     "name": "stdout",
     "output_type": "stream",
     "text": [
      "                   Feature    Importance\n",
      "11       DON_HIST_HYPERTEN  1.899943e+06\n",
      "90  REC_AGE_AT_TX_CAT_> 60  7.143054e+05\n",
      "34          REC_MED_COND.5  5.710640e+05\n",
      "40         DON_RACE_Whites  1.240240e+04\n",
      "37        CAN_PEPTIC_ULCER  7.751808e+03\n",
      "9            DON_HIST_DIAB  4.591243e+03\n",
      "78       REC_CMV_STAT_b'P'  2.968452e+03\n",
      "0   CAN_LAST_SRTR_PEAK_PRA  7.735602e+02\n",
      "69     REC_PRETX_DIAL_b'Y'  3.176135e+02\n",
      "36          REC_MED_COND.7  2.719438e+02\n"
     ]
    }
   ],
   "source": [
    "# Sort the DataFrame by importance in descending order and select top 5\n",
    "top_5_features = feature_importance_df.sort_values(by='Importance', ascending=False).head(10)\n",
    "\n",
    "# Display the top 5 features\n",
    "print(top_5_features)"
   ]
  },
  {
   "cell_type": "code",
   "execution_count": 20,
   "id": "68fd70e8-501c-4bd2-95e8-6d8012999fe4",
   "metadata": {},
   "outputs": [
    {
     "name": "stdout",
     "output_type": "stream",
     "text": [
      "Column 'column_name' exists in the DataFrame.\n"
     ]
    }
   ],
   "source": [
    "if 'REC_PRETX_DIAL' in df.columns:\n",
    "    print(\"Column 'column_name' exists in the DataFrame.\")\n",
    "else:\n",
    "    print(\"Column 'column_name' does not exist in the DataFrame.\")\n"
   ]
  },
  {
   "cell_type": "code",
   "execution_count": 21,
   "id": "ec06c75b-bc0e-4f62-a010-2847d99f7b57",
   "metadata": {},
   "outputs": [],
   "source": [
    "col_name = ['REC_CMV_STAT','DON_HIST_HYPERTEN', 'DON_RACE', 'CAN_LAST_SRTR_PEAK_PRA','REC_AGE_AT_TX_CAT', 'REC_MED_COND.5', 'CAN_PEPTIC_ULCER', 'DON_HIST_DIAB', 'REC_MED_COND.7', 'REC_PRETX_DIAL']\n",
    "target_col = ['DAYS'] \n",
    "X = df[col_name]\n",
    "y = df[target_col]  # y contains only the 'DAYS' column\n",
    "\n",
    "x_num = df[col_name].to_numpy()\n",
    "y_num = df[target_col].to_numpy()  # y contains only the 'DAYS' column"
   ]
  },
  {
   "cell_type": "code",
   "execution_count": 22,
   "id": "ba1b61e7-d8e9-4134-97e6-47c95b7f9c9a",
   "metadata": {},
   "outputs": [
    {
     "data": {
      "image/png": "[encoded data removed]",
      "text/plain": [
       "<Figure size 1000x500 with 1 Axes>"
      ]
     },
     "metadata": {},
     "output_type": "display_data"
    }
   ],
   "source": [
    "import matplotlib.pyplot as plt\n",
    "\n",
    "# plot the histogram of the 'WEEKS' column\n",
    "df[target_col].hist(bins=50, figsize=(10, 5))  # Adjust bins and figsize as needed\n",
    "\n",
    "# Label your axes and give the plot a title\n",
    "plt.xlabel('Days')\n",
    "plt.ylabel('Frequency')\n",
    "plt.title('Histogram of Survival Time in Weeks')\n",
    "\n",
    "# Display the plot\n",
    "plt.show()"
   ]
  },
  {
   "cell_type": "code",
   "execution_count": 23,
   "id": "3c97554e-dab1-48c3-a4b2-e9c8f88a9329",
   "metadata": {},
   "outputs": [
    {
     "name": "stderr",
     "output_type": "stream",
     "text": [
      "/tmp/ipykernel_2882850/1092480990.py:5: UserWarning: \n",
      "\n",
      "`distplot` is a deprecated function and will be removed in seaborn v0.14.0.\n",
      "\n",
      "Please adapt your code to use either `displot` (a figure-level function with\n",
      "similar flexibility) or `kdeplot` (an axes-level function for kernel density plots).\n",
      "\n",
      "For a guide to updating your code to use the new functions, please see\n",
      "https://gist.github.com/mwaskom/de44147ed2974457ad6372750bbe5751\n",
      "\n",
      "  sns.distplot(df['DAYS'], hist=False, kde=True,\n",
      "/home/shresta/.venv/lib/python3.11/site-packages/seaborn/distributions.py:2496: FutureWarning: \n",
      "\n",
      "`shade` is now deprecated in favor of `fill`; setting `fill=True`.\n",
      "This will become an error in seaborn v0.14.0; please update your code.\n",
      "\n",
      "  kdeplot(**{axis: a}, ax=ax, color=kde_color, **kde_kws)\n"
     ]
    },
    {
     "data": {
      "image/png": "[encoded data removed]",
      "text/plain": [
       "<Figure size 640x480 with 1 Axes>"
      ]
     },
     "metadata": {},
     "output_type": "display_data"
    }
   ],
   "source": [
    "import matplotlib.pyplot as plt\n",
    "import seaborn as sns\n",
    "\n",
    "# Using seaborn's distplot function which includes a density plot (kde)\n",
    "sns.distplot(df['DAYS'], hist=False, kde=True, \n",
    "             kde_kws={'shade': True, 'linewidth': 3})\n",
    "\n",
    "# Alternatively, using pandas to create a density plot\n",
    "# df['WEEKS'].plot(kind='density', linewidth=2)\n",
    "\n",
    "# Set labels and title\n",
    "plt.xlabel('Days')\n",
    "plt.ylabel('Density')\n",
    "plt.title('Density Plot of Survival Time in Weeks')\n",
    "\n",
    "# Display the plot\n",
    "plt.show()\n"
   ]
  },
  {
   "cell_type": "code",
   "execution_count": 24,
   "id": "36515bfe-4817-442f-8430-89de34c0144a",
   "metadata": {},
   "outputs": [
    {
     "data": {
      "image/png": "[encoded data removed]",
      "text/plain": [
       "<Figure size 640x480 with 1 Axes>"
      ]
     },
     "metadata": {},
     "output_type": "display_data"
    }
   ],
   "source": [
    "import seaborn as sns\n",
    "import matplotlib.pyplot as plt\n",
    "\n",
    "# Calculate Q1, Q3 and IQR\n",
    "Q1 = df['DAYS'].quantile(0.25)\n",
    "Q3 = df['DAYS'].quantile(0.75)\n",
    "IQR = Q3 - Q1\n",
    "\n",
    "# Define bounds\n",
    "lower_bound = Q1 - 1.5 * IQR\n",
    "upper_bound = Q3 + 1.5 * IQR\n",
    "\n",
    "# Filter the data\n",
    "filtered_df = df[(df['DAYS'] >= lower_bound) & (df['DAYS'] <= upper_bound)]\n",
    "\n",
    "# Plot the filtered data\n",
    "sns.kdeplot(filtered_df['DAYS'], fill=True)\n",
    "plt.title('Density Plot of Survival Time in Weeks without Outliers')\n",
    "plt.xlabel('Days')\n",
    "plt.ylabel('Density')\n",
    "plt.show()"
   ]
  },
  {
   "cell_type": "code",
   "execution_count": 25,
   "id": "7a21767d-94a8-4982-9c9a-cddbd3e29b08",
   "metadata": {},
   "outputs": [],
   "source": [
    "#col_name = ['GL','REC_BMI','REC_AGE_AT_TX', 'DON_BMI', 'REC_BMI', 'DON_AGE', 'DON_RACE', 'CAN_RACE']\n",
    "col_name = ['REC_CMV_STAT','DON_HIST_HYPERTEN', 'DON_RACE', 'CAN_LAST_SRTR_PEAK_PRA','REC_AGE_AT_TX_CAT', 'REC_MED_COND.5', 'CAN_PEPTIC_ULCER', 'DON_HIST_DIAB', 'REC_MED_COND.7', 'REC_PRETX_DIAL']\n",
    "df['YEARS'] = df['DAYS']/365.0\n",
    "target_col = ['YEARS']  \n",
    "X = df[col_name]\n",
    "y = df[target_col]  # y contains only the 'DAYS' column"
   ]
  },
  {
   "cell_type": "code",
   "execution_count": 26,
   "id": "975722a8-e559-4d28-bd63-295748a6aaac",
   "metadata": {},
   "outputs": [],
   "source": [
    "# Perform one-hot encoding for categorical variables\n",
    "X_encoded = pd.get_dummies(X)"
   ]
  },
  {
   "cell_type": "code",
   "execution_count": 27,
   "id": "9b18471e-f059-4562-8f3c-035456a52c8d",
   "metadata": {},
   "outputs": [
    {
     "data": {
      "text/plain": [
       "((74866, 22), (18717, 22), (74866, 1), (18717, 1))"
      ]
     },
     "execution_count": 27,
     "metadata": {},
     "output_type": "execute_result"
    }
   ],
   "source": [
    "# Split the data into training and testing sets\n",
    "X_train, X_test, y_train, y_test = train_test_split(X_encoded, y, test_size=0.2, random_state=42)\n",
    "X_train.shape, X_test.shape, y_train.shape, y_test.shape"
   ]
  },
  {
   "cell_type": "code",
   "execution_count": 28,
   "id": "786aecc5-2e47-40a5-9527-f3959b1b285f",
   "metadata": {},
   "outputs": [
    {
     "name": "stderr",
     "output_type": "stream",
     "text": [
      "/home/shresta/.venv/lib/python3.11/site-packages/sklearn/base.py:1152: DataConversionWarning: A column-vector y was passed when a 1d array was expected. Please change the shape of y to (n_samples,), for example using ravel().\n",
      "  return fit_method(estimator, *args, **kwargs)\n"
     ]
    },
    {
     "data": {
      "text/html": [
       "<style>#sk-container-id-2 {color: black;}#sk-container-id-2 pre{padding: 0;}#sk-container-id-2 div.sk-toggleable {background-color: white;}#sk-container-id-2 label.sk-toggleable__label {cursor: pointer;display: block;width: 100%;margin-bottom: 0;padding: 0.3em;box-sizing: border-box;text-align: center;}#sk-container-id-2 label.sk-toggleable__label-arrow:before {content: \"▸\";float: left;margin-right: 0.25em;color: #696969;}#sk-container-id-2 label.sk-toggleable__label-arrow:hover:before {color: black;}#sk-container-id-2 div.sk-estimator:hover label.sk-toggleable__label-arrow:before {color: black;}#sk-container-id-2 div.sk-toggleable__content {max-height: 0;max-width: 0;overflow: hidden;text-align: left;background-color: #f0f8ff;}#sk-container-id-2 div.sk-toggleable__content pre {margin: 0.2em;color: black;border-radius: 0.25em;background-color: #f0f8ff;}#sk-container-id-2 input.sk-toggleable__control:checked~div.sk-toggleable__content {max-height: 200px;max-width: 100%;overflow: auto;}#sk-container-id-2 input.sk-toggleable__control:checked~label.sk-toggleable__label-arrow:before {content: \"▾\";}#sk-container-id-2 div.sk-estimator input.sk-toggleable__control:checked~label.sk-toggleable__label {background-color: #d4ebff;}#sk-container-id-2 div.sk-label input.sk-toggleable__control:checked~label.sk-toggleable__label {background-color: #d4ebff;}#sk-container-id-2 input.sk-hidden--visually {border: 0;clip: rect(1px 1px 1px 1px);clip: rect(1px, 1px, 1px, 1px);height: 1px;margin: -1px;overflow: hidden;padding: 0;position: absolute;width: 1px;}#sk-container-id-2 div.sk-estimator {font-family: monospace;background-color: #f0f8ff;border: 1px dotted black;border-radius: 0.25em;box-sizing: border-box;margin-bottom: 0.5em;}#sk-container-id-2 div.sk-estimator:hover {background-color: #d4ebff;}#sk-container-id-2 div.sk-parallel-item::after {content: \"\";width: 100%;border-bottom: 1px solid gray;flex-grow: 1;}#sk-container-id-2 div.sk-label:hover label.sk-toggleable__label {background-color: #d4ebff;}#sk-container-id-2 div.sk-serial::before {content: \"\";position: absolute;border-left: 1px solid gray;box-sizing: border-box;top: 0;bottom: 0;left: 50%;z-index: 0;}#sk-container-id-2 div.sk-serial {display: flex;flex-direction: column;align-items: center;background-color: white;padding-right: 0.2em;padding-left: 0.2em;position: relative;}#sk-container-id-2 div.sk-item {position: relative;z-index: 1;}#sk-container-id-2 div.sk-parallel {display: flex;align-items: stretch;justify-content: center;background-color: white;position: relative;}#sk-container-id-2 div.sk-item::before, #sk-container-id-2 div.sk-parallel-item::before {content: \"\";position: absolute;border-left: 1px solid gray;box-sizing: border-box;top: 0;bottom: 0;left: 50%;z-index: -1;}#sk-container-id-2 div.sk-parallel-item {display: flex;flex-direction: column;z-index: 1;position: relative;background-color: white;}#sk-container-id-2 div.sk-parallel-item:first-child::after {align-self: flex-end;width: 50%;}#sk-container-id-2 div.sk-parallel-item:last-child::after {align-self: flex-start;width: 50%;}#sk-container-id-2 div.sk-parallel-item:only-child::after {width: 0;}#sk-container-id-2 div.sk-dashed-wrapped {border: 1px dashed gray;margin: 0 0.4em 0.5em 0.4em;box-sizing: border-box;padding-bottom: 0.4em;background-color: white;}#sk-container-id-2 div.sk-label label {font-family: monospace;font-weight: bold;display: inline-block;line-height: 1.2em;}#sk-container-id-2 div.sk-label-container {text-align: center;}#sk-container-id-2 div.sk-container {/* jupyter's `normalize.less` sets `[hidden] { display: none; }` but bootstrap.min.css set `[hidden] { display: none !important; }` so we also need the `!important` here to be able to override the default hidden behavior on the sphinx rendered scikit-learn.org. See: https://github.com/scikit-learn/scikit-learn/issues/21755 */display: inline-block !important;position: relative;}#sk-container-id-2 div.sk-text-repr-fallback {display: none;}</style><div id=\"sk-container-id-2\" class=\"sk-top-container\"><div class=\"sk-text-repr-fallback\"><pre>RandomForestRegressor()</pre><b>In a Jupyter environment, please rerun this cell to show the HTML representation or trust the notebook. <br />On GitHub, the HTML representation is unable to render, please try loading this page with nbviewer.org.</b></div><div class=\"sk-container\" hidden><div class=\"sk-item\"><div class=\"sk-estimator sk-toggleable\"><input class=\"sk-toggleable__control sk-hidden--visually\" id=\"sk-estimator-id-2\" type=\"checkbox\" checked><label for=\"sk-estimator-id-2\" class=\"sk-toggleable__label sk-toggleable__label-arrow\">RandomForestRegressor</label><div class=\"sk-toggleable__content\"><pre>RandomForestRegressor()</pre></div></div></div></div></div>"
      ],
      "text/plain": [
       "RandomForestRegressor()"
      ]
     },
     "execution_count": 28,
     "metadata": {},
     "output_type": "execute_result"
    }
   ],
   "source": [
    "# Train a Random Forest model\n",
    "from sklearn.model_selection import train_test_split\n",
    "from sklearn.ensemble import RandomForestRegressor\n",
    "\n",
    "model = RandomForestRegressor()\n",
    "model.fit(X_train, y_train)"
   ]
  },
  {
   "cell_type": "code",
   "execution_count": 29,
   "id": "ab47fa77-5f6d-4b13-b90c-d0ba5f5a1770",
   "metadata": {},
   "outputs": [
    {
     "name": "stdout",
     "output_type": "stream",
     "text": [
      "Requirement already satisfied: shap in ./.venv/lib/python3.11/site-packages (0.46.0)\n",
      "Requirement already satisfied: numpy in ./.venv/lib/python3.11/site-packages (from shap) (1.26.1)\n",
      "Requirement already satisfied: scipy in ./.venv/lib/python3.11/site-packages (from shap) (1.11.3)\n",
      "Requirement already satisfied: scikit-learn in ./.venv/lib/python3.11/site-packages (from shap) (1.3.2)\n",
      "Requirement already satisfied: pandas in ./.venv/lib/python3.11/site-packages (from shap) (2.1.1)\n",
      "Requirement already satisfied: tqdm>=4.27.0 in ./.venv/lib/python3.11/site-packages (from shap) (4.67.0)\n",
      "Requirement already satisfied: packaging>20.9 in ./.venv/lib/python3.11/site-packages (from shap) (23.2)\n",
      "Requirement already satisfied: slicer==0.0.8 in ./.venv/lib/python3.11/site-packages (from shap) (0.0.8)\n",
      "Requirement already satisfied: numba in ./.venv/lib/python3.11/site-packages (from shap) (0.60.0)\n",
      "Requirement already satisfied: cloudpickle in ./.venv/lib/python3.11/site-packages (from shap) (3.1.0)\n",
      "Requirement already satisfied: llvmlite<0.44,>=0.43.0dev0 in ./.venv/lib/python3.11/site-packages (from numba->shap) (0.43.0)\n",
      "Requirement already satisfied: python-dateutil>=2.8.2 in ./.venv/lib/python3.11/site-packages (from pandas->shap) (2.8.2)\n",
      "Requirement already satisfied: pytz>=2020.1 in ./.venv/lib/python3.11/site-packages (from pandas->shap) (2023.3.post1)\n",
      "Requirement already satisfied: tzdata>=2022.1 in ./.venv/lib/python3.11/site-packages (from pandas->shap) (2023.3)\n",
      "Requirement already satisfied: joblib>=1.1.1 in ./.venv/lib/python3.11/site-packages (from scikit-learn->shap) (1.3.2)\n",
      "Requirement already satisfied: threadpoolctl>=2.0.0 in ./.venv/lib/python3.11/site-packages (from scikit-learn->shap) (3.2.0)\n",
      "Requirement already satisfied: six>=1.5 in ./.venv/lib/python3.11/site-packages (from python-dateutil>=2.8.2->pandas->shap) (1.16.0)\n",
      "Note: you may need to restart the kernel to use updated packages.\n"
     ]
    }
   ],
   "source": [
    "pip install shap"
   ]
  },
  {
   "cell_type": "code",
   "execution_count": 30,
   "id": "c8f30aab-56d1-4e08-99b8-df8bd875b9eb",
   "metadata": {},
   "outputs": [
    {
     "name": "stderr",
     "output_type": "stream",
     "text": [
      "/home/shresta/.venv/lib/python3.11/site-packages/tqdm/auto.py:21: TqdmWarning: IProgress not found. Please update jupyter and ipywidgets. See https://ipywidgets.readthedocs.io/en/stable/user_install.html\n",
      "  from .autonotebook import tqdm as notebook_tqdm\n"
     ]
    }
   ],
   "source": [
    "import shap"
   ]
  },
  {
   "cell_type": "code",
   "execution_count": 31,
   "id": "d48d8cab-abae-4783-a4a1-d471734b89f3",
   "metadata": {},
   "outputs": [
    {
     "name": "stdout",
     "output_type": "stream",
     "text": [
      "DON_HIST_HYPERTEN            float64\n",
      "CAN_LAST_SRTR_PEAK_PRA       float64\n",
      "REC_MED_COND.5               float64\n",
      "CAN_PEPTIC_ULCER             float64\n",
      "DON_HIST_DIAB                float64\n",
      "REC_MED_COND.7               float64\n",
      "REC_CMV_STAT_0                  bool\n",
      "REC_CMV_STAT_b'N'               bool\n",
      "REC_CMV_STAT_b'ND'              bool\n",
      "REC_CMV_STAT_b'P'               bool\n",
      "REC_CMV_STAT_b'U'               bool\n",
      "DON_RACE_All Others             bool\n",
      "DON_RACE_Blacks                 bool\n",
      "DON_RACE_Hisp_L                 bool\n",
      "DON_RACE_Whites                 bool\n",
      "REC_AGE_AT_TX_CAT_41 - 60       bool\n",
      "REC_AGE_AT_TX_CAT_< 40          bool\n",
      "REC_AGE_AT_TX_CAT_> 60          bool\n",
      "REC_PRETX_DIAL_0                bool\n",
      "REC_PRETX_DIAL_b'N'             bool\n",
      "REC_PRETX_DIAL_b'U'             bool\n",
      "REC_PRETX_DIAL_b'Y'             bool\n",
      "dtype: object\n"
     ]
    }
   ],
   "source": [
    "print(X_train.dtypes)"
   ]
  },
  {
   "cell_type": "code",
   "execution_count": 32,
   "id": "240767b3-f8c2-4b71-b3ea-daa4bdc186d7",
   "metadata": {},
   "outputs": [],
   "source": [
    "X_train = X_train.apply(pd.to_numeric, errors='coerce')\n",
    "X_train = X_train.fillna(0)  # Replace missing values if any remain\n"
   ]
  },
  {
   "cell_type": "code",
   "execution_count": 35,
   "id": "ec8d78e1-53c0-4ec2-adee-a6cd8de5af79",
   "metadata": {},
   "outputs": [
    {
     "name": "stdout",
     "output_type": "stream",
     "text": [
      "REC_CMV_STAT               object\n",
      "DON_HIST_HYPERTEN         float64\n",
      "DON_RACE                   object\n",
      "CAN_LAST_SRTR_PEAK_PRA    float64\n",
      "REC_AGE_AT_TX_CAT          object\n",
      "REC_MED_COND.5            float64\n",
      "CAN_PEPTIC_ULCER          float64\n",
      "DON_HIST_DIAB             float64\n",
      "REC_MED_COND.7            float64\n",
      "REC_PRETX_DIAL             object\n",
      "dtype: object\n"
     ]
    }
   ],
   "source": [
    "# Identify and convert boolean columns to float64\n",
    "bool_cols = X.select_dtypes(include=['bool']).columns\n",
    "X[bool_cols] = X[bool_cols].astype('float64')\n",
    "\n",
    "# Verify the conversion\n",
    "print(X.dtypes)\n"
   ]
  },
  {
   "cell_type": "code",
   "execution_count": 36,
   "id": "d731f6c8-e241-4268-8b0e-aa83bc3e2caf",
   "metadata": {},
   "outputs": [
    {
     "name": "stdout",
     "output_type": "stream",
     "text": [
      "REC_CMV_STAT              float64\n",
      "DON_HIST_HYPERTEN         float64\n",
      "DON_RACE                  float64\n",
      "CAN_LAST_SRTR_PEAK_PRA    float64\n",
      "REC_AGE_AT_TX_CAT         float64\n",
      "REC_MED_COND.5            float64\n",
      "CAN_PEPTIC_ULCER          float64\n",
      "DON_HIST_DIAB             float64\n",
      "REC_MED_COND.7            float64\n",
      "REC_PRETX_DIAL            float64\n",
      "dtype: object\n"
     ]
    },
    {
     "name": "stderr",
     "output_type": "stream",
     "text": [
      "/tmp/ipykernel_2882850/1844754803.py:5: SettingWithCopyWarning: \n",
      "A value is trying to be set on a copy of a slice from a DataFrame.\n",
      "Try using .loc[row_indexer,col_indexer] = value instead\n",
      "\n",
      "See the caveats in the documentation: https://pandas.pydata.org/pandas-docs/stable/user_guide/indexing.html#returning-a-view-versus-a-copy\n",
      "  X[object_cols] = X[object_cols].apply(pd.to_numeric, errors='coerce')\n"
     ]
    }
   ],
   "source": [
    "# Identify and convert object columns to float64\n",
    "object_cols = X.select_dtypes(include=['object']).columns\n",
    "\n",
    "# Convert each column to numeric, coercing errors\n",
    "X[object_cols] = X[object_cols].apply(pd.to_numeric, errors='coerce')\n",
    "\n",
    "# Replace NaN values with 0 (or any other appropriate value)\n",
    "X = X.fillna(0)\n",
    "\n",
    "# Verify the conversion\n",
    "print(X.dtypes)\n"
   ]
  },
  {
   "cell_type": "code",
   "execution_count": 43,
   "id": "df20de56-2825-437c-9013-99f1cd1d4fa8",
   "metadata": {},
   "outputs": [
    {
     "name": "stderr",
     "output_type": "stream",
     "text": [
      "/home/shresta/.venv/lib/python3.11/site-packages/sklearn/base.py:1152: DataConversionWarning: A column-vector y was passed when a 1d array was expected. Please change the shape of y to (n_samples,), for example using ravel().\n",
      "  return fit_method(estimator, *args, **kwargs)\n",
      "100%|===================| 18667/18717 [06:01<00:00]        "
     ]
    },
    {
     "data": {
      "image/png": "[encoded data removed]",
      "text/plain": [
       "<Figure size 800x550 with 2 Axes>"
      ]
     },
     "metadata": {},
     "output_type": "display_data"
    }
   ],
   "source": [
    "# Identify object columns\n",
    "object_cols = X.select_dtypes(include=['object']).columns\n",
    "\n",
    "# Handle non-numeric data\n",
    "for col in object_cols:\n",
    "    # Example: Mapping yes/no to 1/0\n",
    "    if set(X[col].unique()).issubset({'yes', 'no'}):\n",
    "        X[col] = X[col].map({'yes': 1, 'no': 0})\n",
    "    else:\n",
    "        # Convert to numeric, coercing errors\n",
    "        X[col] = pd.to_numeric(X[col], errors='coerce')\n",
    "\n",
    "# Fill missing values\n",
    "X = X.fillna(0)\n",
    "\n",
    "# Ensure all data is numeric\n",
    "X = X.apply(pd.to_numeric, errors='coerce')\n",
    "\n",
    "# Split data\n",
    "X_train, X_test, y_train, y_test = train_test_split(X, y, test_size=0.2, random_state=42)\n",
    "\n",
    "# Train a Random Forest model\n",
    "from sklearn.ensemble import RandomForestRegressor\n",
    "model = RandomForestRegressor()\n",
    "model.fit(X_train, y_train)\n",
    "\n",
    "# SHAP analysis\n",
    "import shap\n",
    "explainer = shap.Explainer(model, X_train)\n",
    "shap_values = explainer(X_test)\n",
    "\n",
    "# Visualizations\n",
    "shap.summary_plot(shap_values, X_test)\n"
   ]
  },
  {
   "cell_type": "code",
   "execution_count": null,
   "id": "851c9e43-7a24-405e-a91f-3b377b2db566",
   "metadata": {},
   "outputs": [],
   "source": []
  },
  {
   "cell_type": "code",
   "execution_count": null,
   "id": "9fe7e823-5eda-473d-b725-f230cd1174a2",
   "metadata": {},
   "outputs": [],
   "source": []
  },
  {
   "cell_type": "code",
   "execution_count": null,
   "id": "45ec376b-cb22-49bf-8ca4-9fb5da124b85",
   "metadata": {},
   "outputs": [],
   "source": []
  }
 ],
 "metadata": {
  "kernelspec": {
   "display_name": "Python 3 (ipykernel)",
   "language": "python",
   "name": "python3"
  },
  "language_info": {
   "codemirror_mode": {
    "name": "ipython",
    "version": 3
   },
   "file_extension": ".py",
   "mimetype": "text/x-python",
   "name": "python",
   "nbconvert_exporter": "python",
   "pygments_lexer": "ipython3",
   "version": "3.11.2"
  }
 },
 "nbformat": 4,
 "nbformat_minor": 5
}
