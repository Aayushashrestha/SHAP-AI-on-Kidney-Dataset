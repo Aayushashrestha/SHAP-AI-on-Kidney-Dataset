{
 "cells": [
  {
   "cell_type": "code",
   "execution_count": null,
   "id": "b7a53da3-c430-4f6c-a0cd-ac39ae6f953d",
   "metadata": {},
   "outputs": [],
   "source": [
    "#libraries\n",
    "import pandas as pd\n",
    "import numpy as np"
   ]
  },
  {
   "cell_type": "code",
   "execution_count": null,
   "id": "b657df41-efe7-464c-8511-557ebbd1d69b",
   "metadata": {},
   "outputs": [],
   "source": [
    "#candiadate info dataset\n",
    "cand_kipa = pd.read_sas('/home/kidneyData/DATA_SP_2022/cand_kipa.sas7bdat')"
   ]
  },
  {
   "cell_type": "code",
   "execution_count": null,
   "id": "e3e7c2e4-bb1f-4205-aa75-560fefa2b2d6",
   "metadata": {},
   "outputs": [],
   "source": [
    "cand_kipa.head()"
   ]
  },
  {
   "cell_type": "code",
   "execution_count": null,
   "id": "157e5bd5-4858-4874-9552-24a1989bf930",
   "metadata": {},
   "outputs": [],
   "source": [
    "cand_kipa.shape"
   ]
  },
  {
   "cell_type": "code",
   "execution_count": null,
   "id": "74728311-6f6c-40fa-a5ba-c7eca98a483f",
   "metadata": {},
   "outputs": [],
   "source": [
    "cand_kipa.columns"
   ]
  },
  {
   "cell_type": "code",
   "execution_count": null,
   "id": "42eb8e47-b42b-4da8-9e9b-e780cbb1469c",
   "metadata": {},
   "outputs": [],
   "source": [
    "tx_ki = pd.read_sas('/home/kidneyData/DATA_SP_2022/tx_ki.sas7bdat')"
   ]
  },
  {
   "cell_type": "code",
   "execution_count": null,
   "id": "f8e5bd47-5a55-402e-8fc2-c532c227955f",
   "metadata": {},
   "outputs": [],
   "source": [
    "tx_ki = pd.read_sas('/home/kidneyData/DATA_SP_2022/tx_ki.sas7bdat')"
   ]
  },
  {
   "cell_type": "code",
   "execution_count": null,
   "id": "5443b8ae-9264-4538-8a89-f1a846fa2bda",
   "metadata": {},
   "outputs": [],
   "source": [
    "tx_ki.columns"
   ]
  },
  {
   "cell_type": "code",
   "execution_count": null,
   "id": "8d68583a-f312-4f18-a670-ab5f83004fdc",
   "metadata": {},
   "outputs": [],
   "source": [
    "tx_ki.shape"
   ]
  },
  {
   "cell_type": "code",
   "execution_count": null,
   "id": "a8e0be59-ed36-4b2c-a809-c85546cfcfbb",
   "metadata": {},
   "outputs": [],
   "source": [
    "# donor_deceased\n",
    "donor_deceased = pd.read_sas('/home/kidneyData/DATA_SP_2022/donor_deceased.sas7bdat')"
   ]
  },
  {
   "cell_type": "code",
   "execution_count": null,
   "id": "e4efe65a-d378-43cd-bad0-5e2688fd131a",
   "metadata": {},
   "outputs": [],
   "source": [
    "# donot_live.head\n",
    "donor_deceased.shape"
   ]
  },
  {
   "cell_type": "code",
   "execution_count": null,
   "id": "2ec73a02-9ab0-44c4-a87d-5d891a3ded3e",
   "metadata": {},
   "outputs": [],
   "source": [
    "donor_deceased.columns"
   ]
  },
  {
   "cell_type": "code",
   "execution_count": null,
   "id": "ce138650-dfd7-497f-9a2b-9722205dce9c",
   "metadata": {},
   "outputs": [],
   "source": [
    "# Finding Common columns of donor_living and tx_ki\n",
    "common_columns = np.intersect1d(donor_deceased.columns, tx_ki.columns)\n",
    "print(common_columns)"
   ]
  },
  {
   "cell_type": "code",
   "execution_count": null,
   "id": "be8db3a5-96e8-4c1e-924d-7e507ecbc90c",
   "metadata": {},
   "outputs": [],
   "source": [
    " tx_donor_deceased = tx_ki.merge(donor_deceased, left_index=False, right_index=False,\n",
    "             on='DONOR_ID', suffixes=('', '_DROP')).filter(regex='^(?!.*_DROP)')"
   ]
  },
  {
   "cell_type": "code",
   "execution_count": null,
   "id": "7ddac65c-9070-46b2-ac23-4e40459aee4b",
   "metadata": {},
   "outputs": [],
   "source": [
    "tx_donor_deceased.shape"
   ]
  },
  {
   "cell_type": "code",
   "execution_count": null,
   "id": "37febe49-09c1-4545-8e61-8d3a19851d1f",
   "metadata": {},
   "outputs": [],
   "source": [
    "# Merging the above merged donor_living and tx_ki now to cand_kipa "
   ]
  },
  {
   "cell_type": "code",
   "execution_count": null,
   "id": "43eba4a8-3b62-45fd-9ce6-e042b119c241",
   "metadata": {},
   "outputs": [],
   "source": [
    "# Finding Common columns of tx_donor_live and cand_kipa using numpy\n",
    "common_columns = np.intersect1d(tx_donor_deceased.columns, cand_kipa.columns)\n",
    "print(common_columns)"
   ]
  },
  {
   "cell_type": "code",
   "execution_count": null,
   "id": "f67ed7bf-4a10-41b2-8987-a2ce988cf247",
   "metadata": {},
   "outputs": [],
   "source": [
    "cand_tx_donor_deceased = cand_kipa.merge(tx_donor_deceased, left_index=False, right_index=False,\n",
    "             on='PX_ID', suffixes=('', '_DROP')).filter(regex='^(?!.*_DROP)')"
   ]
  },
  {
   "cell_type": "code",
   "execution_count": null,
   "id": "08465b98-02cc-433e-8e55-2a0d82967e82",
   "metadata": {},
   "outputs": [],
   "source": [
    " cand_tx_donor_deceased.shape"
   ]
  },
  {
   "cell_type": "code",
   "execution_count": null,
   "id": "62d89144-d36f-4f14-85e3-8a2bc3f0bc3d",
   "metadata": {},
   "outputs": [],
   "source": [
    "# rec_histo\n",
    "rec_histo = pd.read_sas('/home/kidneyData/DATA_SP_2022/rec_histo.sas7bdat')"
   ]
  },
  {
   "cell_type": "code",
   "execution_count": null,
   "id": "35ff8208-9b7e-45c0-abf0-3841bfec9f70",
   "metadata": {},
   "outputs": [],
   "source": [
    "rec_histo.shape"
   ]
  },
  {
   "cell_type": "code",
   "execution_count": null,
   "id": "d101705b-8712-4d10-86be-429b010374c7",
   "metadata": {},
   "outputs": [],
   "source": [
    " # Finding Common columns of tx_donor_live and cand_kipa using numpy\n",
    "common_columns = np.intersect1d(cand_tx_donor_deceased.columns, rec_histo.columns)\n",
    "print(common_columns)\n"
   ]
  },
  {
   "cell_type": "code",
   "execution_count": null,
   "id": "3e71f795-129d-4e40-b757-6dedfa875e32",
   "metadata": {},
   "outputs": [],
   "source": [
    " cand_tx_donor_deceased_rec = cand_tx_donor_deceased.merge(rec_histo, left_index=False, right_index=False,\n",
    "             on='REC_HISTO_TX_ID', suffixes=('', '_DROP')).filter(regex='^(?!.*_DROP)')"
   ]
  },
  {
   "cell_type": "code",
   "execution_count": null,
   "id": "42c6a3de-6ab7-457a-a18d-99bb7c20bc71",
   "metadata": {},
   "outputs": [],
   "source": [
    "cand_tx_donor_deceased_rec.shape"
   ]
  },
  {
   "cell_type": "code",
   "execution_count": null,
   "id": "8d6eef30-9025-4ed8-aeef-32ce4a66b5dd",
   "metadata": {},
   "outputs": [],
   "source": [
    "cand_tx_donor_deceased_rec.head()"
   ]
  },
  {
   "cell_type": "code",
   "execution_count": null,
   "id": "17183bd4-c0e1-4c15-ac5a-3f23c934e895",
   "metadata": {},
   "outputs": [],
   "source": [
    " cand_tx_donor_deceased_rec.to_csv(\"cand_tx_donor_deceased_rec.csv\")"
   ]
  },
  {
   "cell_type": "code",
   "execution_count": null,
   "id": "4e0ff4ba-546a-4af9-aca1-f2a986b5410f",
   "metadata": {},
   "outputs": [],
   "source": [
    "dataset_deceased=pd.read_csv('cand_tx_donor_deceased_rec.csv', low_memory=False)\n",
    "dataset_deceased.head()"
   ]
  },
  {
   "cell_type": "code",
   "execution_count": null,
   "id": "5f5d7f30-02bc-4c1e-9530-a9d94f16cbd0",
   "metadata": {},
   "outputs": [],
   "source": [
    "#  dataset_deceased=pd.read_csv('cand_tx_donor_deceased_rec.csv', low_memory=False)\n",
    "# dataset_deceased.head()\n",
    "# dataset_deceased.drop(dataset_deceased.columns[[0]], axis = 1, inplace = True)"
   ]
  },
  {
   "cell_type": "code",
   "execution_count": null,
   "id": "b479488a-e7b3-4d04-b5ca-207c7911c369",
   "metadata": {},
   "outputs": [],
   "source": [
    "dataset_deceased.shape"
   ]
  },
  {
   "cell_type": "markdown",
   "id": "70950edd-f332-4d95-8974-86cbf6d09a98",
   "metadata": {},
   "source": [
    "### IMMUNOGENICITY AND EPLET LOAD CALCULATIONS"
   ]
  },
  {
   "cell_type": "code",
   "execution_count": null,
   "id": "60c80e65-43bd-49b7-9ecc-016b6e45d9eb",
   "metadata": {},
   "outputs": [],
   "source": [
    "dataset_deceased=pd.read_csv('cand_tx_donor_deceased_rec.csv', low_memory=False)\n",
    "dataset_deceased.head()\n",
    "dataset_deceased.drop(dataset_deceased.columns[[0]], axis = 1, inplace = True)"
   ]
  },
  {
   "cell_type": "code",
   "execution_count": null,
   "id": "1f18c130-b4dd-4543-bd37-3e1c5f153c95",
   "metadata": {},
   "outputs": [],
   "source": [
    "dataset_deceased.shape"
   ]
  },
  {
   "cell_type": "code",
   "execution_count": null,
   "id": "53030920-71d8-4faa-96e0-6cebf37bda03",
   "metadata": {},
   "outputs": [],
   "source": [
    "import os, sys\n",
    "from pathlib import Path\n",
    "sys.path.append(str(Path(os.getcwd()).parent) + \"/ImmunogenicityUtilities(2)/\")"
   ]
  },
  {
   "cell_type": "code",
   "execution_count": null,
   "id": "e5f4437a-f395-43dc-9c59-9b493073cb7f",
   "metadata": {},
   "outputs": [],
   "source": [
    "pip install swifter"
   ]
  },
  {
   "cell_type": "code",
   "execution_count": null,
   "id": "76d8c238-7fac-4aef-bbd7-546a53bc0bbc",
   "metadata": {},
   "outputs": [],
   "source": [
    "import pandas as pd\n",
    "import ImmunogenicityUtilities as IU\n",
    "import EpletUtilities as EU\n",
    "import swifter"
   ]
  },
  {
   "cell_type": "code",
   "execution_count": null,
   "id": "10674a23-7c2b-4ddd-beb7-99d9870e3534",
   "metadata": {},
   "outputs": [],
   "source": [
    "alleleTypeList_dict = [\"A\",\"B\",\"DRB1\"]\n",
    "alleleTypeList = [\"A\",\"B\", \"DR\"]\n",
    "allele_conversion_dict = IU.make_allele_conversion_dict('immunogenicity-utilities/Dictionaries/HLAConversionDataDictionary.csv')\n",
    "allele_mapping_dict = IU.make_allele_mapping_dict('immunogenicity-utilities/Dictionaries/HLAConversionDataDictionary.csv')\n",
    "master_dict = IU.make_haplo_frequency_dict(\"immunogenicity-utilities/Dictionaries/freq_dic/\",alleleTypeList_dict)"
   ]
  },
  {
   "cell_type": "code",
   "execution_count": null,
   "id": "c2f5ed97-4189-4afb-9198-03e3740900bd",
   "metadata": {},
   "outputs": [],
   "source": [
    "dataset_deceased=pd.read_csv('cand_tx_donor_deceased_rec.csv', encoding=\"latin1\", low_memory=False)\n",
    "dataset_deceased.drop(dataset_deceased.columns[[0]], axis = 1, inplace = True)\n",
    "dataset_deceased.head()"
   ]
  },
  {
   "cell_type": "code",
   "execution_count": null,
   "id": "942c7250-6199-4f20-8365-f5015dab95e4",
   "metadata": {},
   "outputs": [],
   "source": [
    " dataset_deceased.shape"
   ]
  },
  {
   "cell_type": "code",
   "execution_count": null,
   "id": "5d075908-157f-4504-839e-0b33c5f5aced",
   "metadata": {},
   "outputs": [],
   "source": [
    "dataset_deceased = dataset_deceased[[\n",
    " 'DON_RACE',\n",
    " 'DON_A1',\n",
    " 'DON_A2',\n",
    " 'DON_B1',\n",
    " 'DON_B2',\n",
    " 'DON_DR1',\n",
    " 'DON_DR2',\n",
    " 'PERS_ID',\n",
    " 'CAN_RACE',\n",
    " 'REC_A1',\n",
    " 'REC_A2',\n",
    " 'REC_B1',\n",
    " 'REC_B2',\n",
    " 'REC_DR1',\n",
    " 'REC_DR2']].dropna().reset_index(drop=True)"
   ]
  },
  {
   "cell_type": "code",
   "execution_count": null,
   "id": "5d651110-29b4-49b7-a56f-064e9604bb69",
   "metadata": {},
   "outputs": [],
   "source": [
    "dataset_deceased.head(5)"
   ]
  },
  {
   "cell_type": "code",
   "execution_count": null,
   "id": "dbbf49b5-c1db-4b0d-b2af-d86d65c4a2cf",
   "metadata": {},
   "outputs": [],
   "source": [
    "def race_label(race):\n",
    "    if race == 8:\n",
    "        return \"White\"\n",
    "    elif race == 16:\n",
    "        return \"Black or African American\"\n",
    "    elif race == 32:\n",
    "        return \"American Indian or Alaska Native\"\n",
    "    elif race == 64:\n",
    "        return \"Asian\"\n",
    "    elif race == 128:\n",
    "        return \"Native Hawaiian or Other Pacific Islander\"\n",
    "    elif race == 256:\n",
    "        return \"Arab or Middle Eastern\"\n",
    "    elif race == 512:\n",
    "        return \"Indian Sub-continent\"\n",
    "    elif race == 1024:\n",
    "        return \"Unknown (for Donor Referral only)\"\n",
    "    elif race == 2000:\n",
    "        return \"Hispanic/Latino\"\n",
    "    else:\n",
    "        return \"Multi-Racial\" "
   ]
  },
  {
   "cell_type": "code",
   "execution_count": null,
   "id": "bf960edc-16bb-4f25-97fc-f8af986fbe13",
   "metadata": {},
   "outputs": [],
   "source": [
    "# Apply race_label function to DON_RACE column\n",
    "dataset_deceased['DON_RACE'] =  dataset_deceased['DON_RACE'].apply(race_label)\n",
    "\n",
    "# Apply race_label function to CAN_RACE column\n",
    "dataset_deceased['CAN_RACE'] =  dataset_deceased['CAN_RACE'].apply(race_label)"
   ]
  },
  {
   "cell_type": "code",
   "execution_count": null,
   "id": "eb99aab7-affc-4fef-869f-a80f2b220954",
   "metadata": {},
   "outputs": [],
   "source": [
    " dataset_deceased.head(5)"
   ]
  },
  {
   "cell_type": "markdown",
   "id": "074c3fd7-d722-4b52-bc01-246630a9803a",
   "metadata": {},
   "source": [
    "### HLA Conversion to High Resolution"
   ]
  },
  {
   "cell_type": "code",
   "execution_count": null,
   "id": "672925b0-7bd6-4d82-95c2-91ee8d20cf0f",
   "metadata": {},
   "outputs": [],
   "source": [
    "dataset_deceased[[\"DON_A1_HR\",\"DON_A2_HR\",\"DON_B1_HR\",\"DON_B2_HR\",\"DON_DR1_HR\",\"DON_DR2_HR\"]] = dataset_deceased.swifter.apply(lambda row: IU.get_high_resolution(row[0],row[1:7],alleleTypeList,allele_mapping_dict,allele_conversion_dict,master_dict),axis=1,result_type=\"expand\") "
   ]
  },
  {
   "cell_type": "code",
   "execution_count": null,
   "id": "85a11fc6-e831-449b-9e76-9c5bebd7f003",
   "metadata": {},
   "outputs": [],
   "source": [
    "dataset_deceased.head(5)"
   ]
  },
  {
   "cell_type": "code",
   "execution_count": null,
   "id": "b7869f43-18cd-4bbd-9364-5d1af857f449",
   "metadata": {},
   "outputs": [],
   "source": [
    "#convert all receipient HLA to high resolution\n",
    "dataset_deceased[[\"REC_A1_HR\",\"REC_A2_HR\",\"REC_B1_HR\",\"REC_B2_HR\",\"REC_DR1_HR\",\"REC_DR2_HR\"]] = dataset_deceased.swifter.apply(lambda row: IU.get_high_resolution(row[8],row[9:15],alleleTypeList,allele_mapping_dict,allele_conversion_dict,master_dict),axis=1,result_type=\"expand\") "
   ]
  },
  {
   "cell_type": "code",
   "execution_count": null,
   "id": "82dfb016-d8c4-4664-bb1e-85e9cae68ee4",
   "metadata": {},
   "outputs": [],
   "source": [
    "dataset_deceased.head(5)"
   ]
  },
  {
   "cell_type": "code",
   "execution_count": null,
   "id": "a28720a5-f676-4d65-980b-012e4970b648",
   "metadata": {},
   "outputs": [],
   "source": [
    "dataset_deceased.shape"
   ]
  },
  {
   "cell_type": "code",
   "execution_count": null,
   "id": "4fda7799-d3ad-497b-8a2b-507c520517bf",
   "metadata": {},
   "outputs": [],
   "source": [
    "dataset_deceased.isna().sum()"
   ]
  },
  {
   "cell_type": "code",
   "execution_count": null,
   "id": "93bed329-17cb-42cd-a936-8574bc9e599f",
   "metadata": {},
   "outputs": [],
   "source": [
    "dataset_deceased = dataset_deceased.dropna(axis=0, subset=['DON_A1_HR'])\n",
    "dataset_deceased = dataset_deceased.dropna(axis=0, subset=['REC_A1_HR'])"
   ]
  },
  {
   "cell_type": "code",
   "execution_count": null,
   "id": "be28789f-cb9b-4028-9e38-3d96fd219b3d",
   "metadata": {},
   "outputs": [],
   "source": [
    " dataset_deceased.shape"
   ]
  },
  {
   "cell_type": "code",
   "execution_count": null,
   "id": "298397bf-f40f-40ed-bc6f-395e054c4d87",
   "metadata": {},
   "outputs": [],
   "source": [
    "aa_df = pd.read_csv(\"AA_Code.csv\")\n",
    "aa_dict = IU.make_amino_acid_dict(aa_df)\n",
    "classIseqdf = pd.read_csv(\"immunogenicity-utilities/Dictionaries/Aligned_Seq.csv\")\n",
    "classIseq = IU.make_aligned_seq_dict(classIseqdf,aa_dict)\n",
    "classIIseq = IU.make_allele_sequence_dict(['DPA1', 'DPB1', 'DQA1', 'DRB1345', 'DQB1'],\"immunogenicity-utilities/Dictionaries/Class_Two_Seq/\",aa_dict)"
   ]
  },
  {
   "cell_type": "code",
   "execution_count": null,
   "id": "fbc97e18-26ae-4789-9880-d94b106abb6b",
   "metadata": {},
   "outputs": [],
   "source": [
    " dataset_deceased.isna().sum()"
   ]
  },
  {
   "cell_type": "code",
   "execution_count": null,
   "id": "e9148f96-0d80-46b0-a527-4e2ab4c1609b",
   "metadata": {},
   "outputs": [],
   "source": [
    "dataset_deceased.iloc[0,15:19]"
   ]
  },
  {
   "cell_type": "code",
   "execution_count": null,
   "id": "8d4397e2-bd75-4ea6-ac21-37b681c0ab37",
   "metadata": {},
   "outputs": [],
   "source": [
    " dataset_deceased.iloc[0,21:25]"
   ]
  },
  {
   "cell_type": "code",
   "execution_count": null,
   "id": "877ce5c3-2b19-478f-b7a4-ad80b9cae822",
   "metadata": {},
   "outputs": [],
   "source": [
    "dataset_deceased[[\"AB_HMS\",\"AB_EMS\",\"AB_AMS\"]] = pd.DataFrame(list(dataset_deceased.swifter.apply(lambda row: IU.typeICalcs(row[15:19],row[21:25],classIseq),axis=1)))"
   ]
  },
  {
   "cell_type": "code",
   "execution_count": null,
   "id": "03290a07-9e06-4a7c-a581-654fe3062062",
   "metadata": {},
   "outputs": [],
   "source": [
    "dataset_deceased.iloc[0,19:21]"
   ]
  },
  {
   "cell_type": "code",
   "execution_count": null,
   "id": "3caa9156-b372-43e6-9eb9-ee4fc9d52fbf",
   "metadata": {},
   "outputs": [],
   "source": [
    "dataset_deceased.iloc[0,25:27]"
   ]
  },
  {
   "cell_type": "code",
   "execution_count": null,
   "id": "1ab26db6-6e14-4ba9-a27b-685376f437db",
   "metadata": {},
   "outputs": [],
   "source": [
    "dataset_deceased[['DR_HMS', 'DR_EMS', 'DR_AMS', 'DR_alphaHMS', 'DR_alphaEMS', 'DR_alphaAMS', 'DR_betaHMS',\n",
    "       'DR_betaEMS', 'DR_betaAMS']] = pd.DataFrame(list(dataset_deceased.swifter.apply(lambda row: IU.typeIICalcs(row[19:21],row[25:27],classIIseq),axis=1)))"
   ]
  },
  {
   "cell_type": "code",
   "execution_count": null,
   "id": "16c05939-2cb4-45d0-bee9-3cb545ec3a09",
   "metadata": {},
   "outputs": [],
   "source": [
    "dataset_deceased.head()"
   ]
  },
  {
   "cell_type": "code",
   "execution_count": null,
   "id": "27c24572-5a45-489d-8a50-0ce16a06220c",
   "metadata": {},
   "outputs": [],
   "source": [
    "dataset_deceased['Avg_EMS'] = dataset_deceased[['AB_EMS', 'DR_EMS']].mean(axis=1)\n",
    "dataset_deceased['Avg_HMS'] = dataset_deceased[['AB_HMS', 'DR_HMS']].mean(axis=1)\n",
    "dataset_deceased['Avg_AMS'] = dataset_deceased[['AB_AMS', 'DR_AMS']].mean(axis=1)"
   ]
  },
  {
   "cell_type": "code",
   "execution_count": null,
   "id": "03add66f-f724-44d7-907b-999de720758f",
   "metadata": {},
   "outputs": [],
   "source": [
    " dataset_deceased.head()"
   ]
  },
  {
   "cell_type": "code",
   "execution_count": null,
   "id": "8a723b7d-a677-4a83-b653-4e91298bd525",
   "metadata": {},
   "outputs": [],
   "source": [
    "dataset_deceased.isna().sum()"
   ]
  },
  {
   "cell_type": "markdown",
   "id": "7c89653c-db0d-41e8-9e33-f18818c23d41",
   "metadata": {},
   "source": [
    "### EPLET LOAD CALCULATIONS"
   ]
  },
  {
   "cell_type": "code",
   "execution_count": null,
   "id": "1460960c-3734-497e-a92b-e3a5582cb5c5",
   "metadata": {},
   "outputs": [],
   "source": [
    "melt_Df = pd.read_csv(\"immunogenicity-utilities/Dictionaries/Eplet_Allele_ALL_Drop_NA_Melt.csv\")\n",
    "eplet_dict, eplet_type_dict = EU.build_dictionaries(melt_Df)"
   ]
  },
  {
   "cell_type": "code",
   "execution_count": null,
   "id": "2dc1a52d-5735-43af-9c1b-307030553250",
   "metadata": {},
   "outputs": [],
   "source": [
    "dataset_deceased[[\"DON_EPLETS\",\"REC_EPLETS\"]] = pd.DataFrame(list(dataset_deceased.swifter.apply(lambda row: EU.compare_eplets(row[['DON_A1_HR', 'DON_A2_HR', 'DON_B1_HR', 'DON_B2_HR', 'DON_DR1_HR',\n",
    "       'DON_DR2_HR']],row[['REC_A1_HR',\n",
    "       'REC_A2_HR', 'REC_B1_HR', 'REC_B2_HR', 'REC_DR1_HR', 'REC_DR2_HR']],eplet_dict)  ,axis=1)))"
   ]
  },
  {
   "cell_type": "code",
   "execution_count": null,
   "id": "e8944013-91a2-4260-bb82-147634b88a46",
   "metadata": {},
   "outputs": [],
   "source": [
    " dataset_deceased.head()"
   ]
  },
  {
   "cell_type": "code",
   "execution_count": null,
   "id": "40337ca1-8b33-49a6-be21-da536a7f6431",
   "metadata": {},
   "outputs": [],
   "source": [
    "dataset_deceased = dataset_deceased.dropna(axis=0, subset=['AB_HMS'])"
   ]
  },
  {
   "cell_type": "code",
   "execution_count": null,
   "id": "6407a272-58a2-420d-871e-045f1e2329aa",
   "metadata": {},
   "outputs": [],
   "source": [
    "dataset_deceased.head()"
   ]
  },
  {
   "cell_type": "code",
   "execution_count": null,
   "id": "dedaf79a-1dc5-48f3-91ff-f1431908ddb7",
   "metadata": {},
   "outputs": [],
   "source": [
    " dataset_deceased.to_csv(\"dataset_deceased_immuno_eplet.csv\")"
   ]
  },
  {
   "cell_type": "markdown",
   "id": "d492b437-73b0-494c-a206-7d13e876597f",
   "metadata": {},
   "source": [
    "### SURVIVAL ANALYSIS"
   ]
  },
  {
   "cell_type": "code",
   "execution_count": null,
   "id": "ec828a1d-5cb2-4daa-9cba-8138a2ee9492",
   "metadata": {},
   "outputs": [],
   "source": [
    "import pandas as pd\n",
    "import numpy as np\n",
    "\n",
    "import matplotlib.pyplot as plt \n",
    "%matplotlib inline"
   ]
  },
  {
   "cell_type": "code",
   "execution_count": null,
   "id": "30dd78e7-b5aa-4dbe-9730-5db2cb2f5874",
   "metadata": {},
   "outputs": [],
   "source": [
    " #transplant info dataset\n",
    "tx_ki = pd.read_sas('/home/kidneyData/DATA_SP_2022/tx_ki.sas7bdat')"
   ]
  },
  {
   "cell_type": "code",
   "execution_count": null,
   "id": "e84992b7-2a00-4fa1-971a-93970fcc53a7",
   "metadata": {},
   "outputs": [],
   "source": [
    "print(tx_ki.columns)"
   ]
  },
  {
   "cell_type": "code",
   "execution_count": null,
   "id": "3f10fc5b-e725-4cae-9a72-ee8b2a8d2f7b",
   "metadata": {},
   "outputs": [],
   "source": [
    "tx_ki = tx_ki[[\n",
    " 'PERS_ID',\n",
    " 'CAN_GENDER',\n",
    " 'REC_AGE_AT_TX',\n",
    " 'TFL_GRAFT_DT',\n",
    " 'REC_FAIL_DT',\n",
    " 'PERS_RELIST',\n",
    " 'PERS_RETX',\n",
    " 'REC_RESUM_MAINT_DIAL_DT',\n",
    " 'PERS_SSA_DEATH_DT',\n",
    " 'PERS_OPTN_DEATH_DT',\n",
    " #'PERS_RESTRICT_DEATH_DT',\n",
    " 'TFL_DEATH_DT',\n",
    " 'TFL_LAFUDATE',\n",
    " 'TFL_ENDTXFU',\n",
    " 'REC_TX_DT']]"
   ]
  },
  {
   "cell_type": "markdown",
   "id": "d1f323bf-c4b1-4b67-8eb7-6ca17eea41d2",
   "metadata": {},
   "source": [
    "### PATIENT SURVIVED - PS"
   ]
  },
  {
   "cell_type": "code",
   "execution_count": null,
   "id": "b3054994-233f-48de-baa1-1107ed52a67c",
   "metadata": {},
   "outputs": [],
   "source": [
    "#PS = “Died”, if there is a record in any of the following variables \n",
    "pd.options.mode.chained_assignment = None\n",
    "tx_ki['PS_PS'] = np.where((np.isnat(tx_ki.PERS_SSA_DEATH_DT)), '0', '1')\n",
    "tx_ki['PS_PO'] = np.where((np.isnat(tx_ki.PERS_OPTN_DEATH_DT)), '0', '1')\n",
    "#tx_ki['PS_PR'] = np.where((np.isnat(tx_ki.PERS_RESTRICT_DEATH_DT)), '0', '1')\n",
    "tx_ki['PS_PD'] = np.where((np.isnat(tx_ki.TFL_DEATH_DT)), '0', '1')\n",
    "\n",
    "#PS column \n",
    "#tx_ki['PS'] = tx_ki[['PS_PS', 'PS_PO', 'PS_PR', 'PS_PD']].max(axis=1)\n",
    "tx_ki['PS'] = tx_ki[['PS_PS', 'PS_PO', 'PS_PD']].max(axis=1)"
   ]
  },
  {
   "cell_type": "code",
   "execution_count": null,
   "id": "60f67d38-133d-4409-99e2-1ebe0e791417",
   "metadata": {},
   "outputs": [],
   "source": [
    " tx_ki = tx_ki[[\n",
    " 'PERS_ID',\n",
    " 'CAN_GENDER',\n",
    " 'REC_AGE_AT_TX',\n",
    " 'TFL_GRAFT_DT',\n",
    " 'REC_FAIL_DT',\n",
    " 'PERS_RELIST',\n",
    " 'PERS_RETX',\n",
    " 'REC_RESUM_MAINT_DIAL_DT',\n",
    " 'PERS_SSA_DEATH_DT',\n",
    " 'PERS_OPTN_DEATH_DT',\n",
    " #'PERS_RESTRICT_DEATH_DT',\n",
    " 'TFL_DEATH_DT',\n",
    " 'TFL_LAFUDATE',\n",
    " 'TFL_ENDTXFU',\n",
    " 'REC_TX_DT',\n",
    " 'PS']]"
   ]
  },
  {
   "cell_type": "code",
   "execution_count": null,
   "id": "775c3890-74e1-4289-b350-b7a6e6196290",
   "metadata": {},
   "outputs": [],
   "source": [
    " tx_ki.head()"
   ]
  },
  {
   "cell_type": "markdown",
   "id": "90117ce7-6c8c-44a0-9461-a9cc9d3d07e0",
   "metadata": {},
   "source": [
    "### GRAFT LOSS DUE TO KIDNEY FAILURE"
   ]
  },
  {
   "cell_type": "code",
   "execution_count": null,
   "id": "e3c3f6b9-cba8-45cf-a1fd-8115f4db00d2",
   "metadata": {},
   "outputs": [],
   "source": [
    "#KGL = “Failed”, if there is a record in any of the following variables \n",
    "pd.options.mode.chained_assignment = None \n",
    "tx_ki['KGL_G'] = np.where((np.isnat(tx_ki.TFL_GRAFT_DT)), '0', '1')\n",
    "tx_ki['KGL_F'] = np.where((np.isnat(tx_ki.REC_FAIL_DT)), '0', '1')\n",
    "tx_ki['KGL_P'] = np.where((np.isnat(tx_ki.PERS_RELIST)), '0', '1')\n",
    "tx_ki['KGL_RR'] = np.where((np.isnat(tx_ki.REC_RESUM_MAINT_DIAL_DT)), '0', '1')\n",
    "tx_ki['KGL_RF'] = np.where((np.isnat(tx_ki.REC_FAIL_DT)), '0', '1')\n",
    "\n",
    "#KGL column\n",
    "tx_ki['KGL'] = tx_ki[['KGL_G', 'KGL_F', 'KGL_P', 'KGL_RR', 'KGL_RF']].max(axis=1)"
   ]
  },
  {
   "cell_type": "code",
   "execution_count": null,
   "id": "fd2f01cf-c99b-4bbd-931a-a6f8b7fa5b27",
   "metadata": {},
   "outputs": [],
   "source": [
    "tx_ki = tx_ki[[\n",
    " 'PERS_ID',\n",
    " 'CAN_GENDER',\n",
    " 'REC_AGE_AT_TX',\n",
    " 'TFL_GRAFT_DT',\n",
    " 'REC_FAIL_DT',\n",
    " 'PERS_RELIST',\n",
    " 'PERS_RETX',\n",
    " 'REC_RESUM_MAINT_DIAL_DT',\n",
    " 'PERS_SSA_DEATH_DT',\n",
    " 'PERS_OPTN_DEATH_DT',\n",
    " #'PERS_RESTRICT_DEATH_DT',\n",
    " 'TFL_DEATH_DT',\n",
    " 'TFL_LAFUDATE',\n",
    " 'TFL_ENDTXFU',\n",
    " 'REC_TX_DT',\n",
    " 'PS',\n",
    " 'KGL']]"
   ]
  },
  {
   "cell_type": "code",
   "execution_count": null,
   "id": "9cb642dd-bca7-4d20-86b3-5d526ae2450f",
   "metadata": {},
   "outputs": [],
   "source": [
    "tx_ki.head()"
   ]
  },
  {
   "cell_type": "markdown",
   "id": "4bc60730-d338-4e5d-960d-4edc52e1c078",
   "metadata": {},
   "source": [
    "### DEATH CENSORED GRAFT LOSS - DCGL\n",
    "#### GRAFT LOSS DUE TO DEATH"
   ]
  },
  {
   "cell_type": "code",
   "execution_count": null,
   "id": "acfbbf4d-d57d-4164-a46e-d993e9a06daf",
   "metadata": {},
   "outputs": [],
   "source": [
    "tx_ki['DCGL'] = np.where((tx_ki.PS == 1) & (tx_ki.KGL == 0), 1,0)"
   ]
  },
  {
   "cell_type": "code",
   "execution_count": null,
   "id": "60adca14-eb1d-4939-8fe6-d326863f0809",
   "metadata": {},
   "outputs": [],
   "source": [
    " tx_ki.head()"
   ]
  },
  {
   "cell_type": "markdown",
   "id": "60f67913-8ca3-40b1-8f6f-0b8e8d32caa3",
   "metadata": {},
   "source": [
    "### GRAFT LOSS - GL"
   ]
  },
  {
   "cell_type": "code",
   "execution_count": null,
   "id": "e4c55e3b-9c23-46d7-90b3-89e4b94fdf36",
   "metadata": {},
   "outputs": [],
   "source": [
    "print(tx_ki[['KGL', 'DCGL']].dtypes)"
   ]
  },
  {
   "cell_type": "code",
   "execution_count": null,
   "id": "a30daf69-558d-44bd-82d6-34b0d18c8d97",
   "metadata": {},
   "outputs": [],
   "source": [
    "tx_ki[['KGL', 'DCGL']] = tx_ki[['KGL', 'DCGL']].apply(pd.to_numeric, errors='coerce')"
   ]
  },
  {
   "cell_type": "code",
   "execution_count": null,
   "id": "4f9ecab3-066a-47f6-bbfc-795e98a816a7",
   "metadata": {},
   "outputs": [],
   "source": [
    "tx_ki[['KGL', 'DCGL']] = tx_ki[['KGL', 'DCGL']].fillna(0)"
   ]
  },
  {
   "cell_type": "code",
   "execution_count": null,
   "id": "d560f58d-c58f-4396-9067-50d76f0eab17",
   "metadata": {},
   "outputs": [],
   "source": [
    "tx_ki['GL'] = tx_ki[['KGL', 'DCGL']].max(axis=1)"
   ]
  },
  {
   "cell_type": "code",
   "execution_count": null,
   "id": "4544e79a-040c-46fb-bd68-1dcbd7cd417b",
   "metadata": {},
   "outputs": [],
   "source": [
    "tx_ki.head()"
   ]
  },
  {
   "cell_type": "code",
   "execution_count": null,
   "id": "c540ad2e-142d-4795-a1e7-885d453187e9",
   "metadata": {},
   "outputs": [],
   "source": [
    "tx_ki.isna().sum()"
   ]
  },
  {
   "cell_type": "markdown",
   "id": "77483a88-c636-497b-82e7-df6302dd5947",
   "metadata": {},
   "source": [
    "### NUMBER OF DAYS UNTIL EVENT OCCURED - DAYS"
   ]
  },
  {
   "cell_type": "code",
   "execution_count": null,
   "id": "2b1f61f0-6b48-476c-a8aa-c8f3b0835237",
   "metadata": {},
   "outputs": [],
   "source": [
    " #minimum date of TFL_LAFUDATE, TFL_ENDTXFU\n",
    "tx_ki['TFL_LAF_END_MIN'] = tx_ki[['TFL_LAFUDATE', 'TFL_ENDTXFU']].min(axis=1)"
   ]
  },
  {
   "cell_type": "code",
   "execution_count": null,
   "id": "db49c1ac-b15f-4af4-b3e8-ccc98c2b1500",
   "metadata": {},
   "outputs": [],
   "source": [
    "tx_ki['DAYS'] = np.where(tx_ki.PS == 0, tx_ki.TFL_LAFUDATE - tx_ki.REC_TX_DT, tx_ki.TFL_LAF_END_MIN - tx_ki.REC_TX_DT)\n",
    "tx_ki['DAYS']=(tx_ki['DAYS']).dt.days"
   ]
  },
  {
   "cell_type": "code",
   "execution_count": null,
   "id": "3317f85d-b0e4-41e6-b11c-2c80afd2759b",
   "metadata": {},
   "outputs": [],
   "source": [
    "tx_ki = tx_ki[[\n",
    " 'PERS_ID',\n",
    " 'CAN_GENDER',\n",
    " 'REC_AGE_AT_TX',\n",
    " 'TFL_GRAFT_DT',\n",
    " 'REC_FAIL_DT',\n",
    " 'PERS_RELIST',\n",
    " 'PERS_RETX',\n",
    " 'REC_RESUM_MAINT_DIAL_DT',\n",
    " 'PERS_SSA_DEATH_DT',\n",
    " 'PERS_OPTN_DEATH_DT',\n",
    "# 'PERS_RESTRICT_DEATH_DT',\n",
    " 'TFL_DEATH_DT',\n",
    " 'TFL_LAFUDATE',\n",
    " 'TFL_ENDTXFU',\n",
    " 'REC_TX_DT',\n",
    " 'PS',\n",
    " 'KGL',\n",
    " 'DCGL',\n",
    " 'GL',\n",
    " 'DAYS']]"
   ]
  },
  {
   "cell_type": "code",
   "execution_count": null,
   "id": "b41af5cc-01ae-4fca-b767-7b6530741025",
   "metadata": {},
   "outputs": [],
   "source": [
    "tx_ki.head()"
   ]
  },
  {
   "cell_type": "markdown",
   "id": "4dd2af3b-e457-48fd-8992-260f9f6a29c6",
   "metadata": {},
   "source": [
    "### MERGING WITH DATASET FROM IMMUNOGENICITY AND EPLETS CALCULATIONS"
   ]
  },
  {
   "cell_type": "code",
   "execution_count": null,
   "id": "97babca3-3a77-4d8a-a108-9c280a5ce08f",
   "metadata": {},
   "outputs": [],
   "source": [
    "dataset_survival = pd.read_csv('dataset_deceased_immuno_eplet.csv', encoding=\"latin1\", low_memory=False)"
   ]
  },
  {
   "cell_type": "code",
   "execution_count": null,
   "id": "f6dd4565-5ff8-4843-9e67-fd3f08ad492c",
   "metadata": {},
   "outputs": [],
   "source": [
    "dataset_survival.shape"
   ]
  },
  {
   "cell_type": "code",
   "execution_count": null,
   "id": "1cdc9134-5c24-4add-aa80-af010b74a9a9",
   "metadata": {},
   "outputs": [],
   "source": [
    " dataset_survival.head()"
   ]
  },
  {
   "cell_type": "code",
   "execution_count": null,
   "id": "b9475e29-44d3-4a57-8d9d-c39c30a83ae9",
   "metadata": {},
   "outputs": [],
   "source": [
    " #merge survival dataset with immunogenicity and eplet load calcs\n",
    "dataset_survival = dataset_survival.merge(tx_ki, left_index=False, right_index=False,\n",
    "             on='PERS_ID', suffixes=('', '_DROP')).filter(regex='^(?!.*_DROP)')"
   ]
  },
  {
   "cell_type": "code",
   "execution_count": null,
   "id": "f7ebe7f5-cddd-4ef8-8a7c-e72cb3ad2eb2",
   "metadata": {},
   "outputs": [],
   "source": [
    "dataset_survival.shape"
   ]
  },
  {
   "cell_type": "code",
   "execution_count": null,
   "id": "f2277b6b-a9a4-4198-9243-dfabe3d57239",
   "metadata": {},
   "outputs": [],
   "source": [
    "dataset_survival.drop(columns=dataset_survival.columns[0], axis=1, inplace=True)\n",
    "dataset_survival.head()"
   ]
  },
  {
   "cell_type": "code",
   "execution_count": null,
   "id": "95cce9c1-aaf9-44e0-926f-5fbff5a364b9",
   "metadata": {},
   "outputs": [],
   "source": [
    "dataset_survival.isna().sum()"
   ]
  },
  {
   "cell_type": "code",
   "execution_count": null,
   "id": "3fb7be80-9654-4b01-9416-55782d659b48",
   "metadata": {},
   "outputs": [],
   "source": [
    "dataset_survival.shape"
   ]
  },
  {
   "cell_type": "code",
   "execution_count": null,
   "id": "27bea516-e844-49e3-afe7-8490957482cb",
   "metadata": {},
   "outputs": [],
   "source": [
    "#save data\n",
    "dataset_survival.to_csv(\"dataset_survival_deceased.csv\")"
   ]
  },
  {
   "cell_type": "markdown",
   "id": "34992d08-8750-445e-8bc2-793930cab3e5",
   "metadata": {},
   "source": [
    "### KAPLAN MEIER ANALYSIS"
   ]
  },
  {
   "cell_type": "code",
   "execution_count": null,
   "id": "19d0a3f9-e4df-4d61-9a24-96177a6e2707",
   "metadata": {},
   "outputs": [],
   "source": [
    "#libraries\n",
    "import pandas as pd\n",
    "import numpy as np"
   ]
  },
  {
   "cell_type": "code",
   "execution_count": null,
   "id": "af804adc-5484-4e92-bc2c-050a932aeeb5",
   "metadata": {},
   "outputs": [],
   "source": [
    "pip install lifelines"
   ]
  },
  {
   "cell_type": "code",
   "execution_count": null,
   "id": "9463ddfd-b4ed-47dc-ba28-1ac512711063",
   "metadata": {},
   "outputs": [],
   "source": [
    "from lifelines import KaplanMeierFitter"
   ]
  },
  {
   "cell_type": "code",
   "execution_count": null,
   "id": "4f1f1342-259b-4f2d-a9ef-6d793c126713",
   "metadata": {},
   "outputs": [],
   "source": [
    " #loading data\n",
    "dataset_survival = pd.read_csv('dataset_survival_deceased.csv', encoding=\"latin1\", low_memory=False)\n",
    "dataset_survival.head()\n",
    "#dataset_survival_living "
   ]
  },
  {
   "cell_type": "code",
   "execution_count": null,
   "id": "d1dc9a9c-f574-4d56-b41f-034b1b98fb1b",
   "metadata": {},
   "outputs": [],
   "source": [
    "dataset_survival.shape"
   ]
  },
  {
   "cell_type": "code",
   "execution_count": null,
   "id": "ec3cf663-d698-4404-95a7-417bbea55c1c",
   "metadata": {},
   "outputs": [],
   "source": [
    "dataset_survival.drop(columns=dataset_survival.columns[0], axis=1, inplace=True)"
   ]
  },
  {
   "cell_type": "code",
   "execution_count": null,
   "id": "14bbae93-98b9-4c0c-87b7-54b4c4ae412e",
   "metadata": {},
   "outputs": [],
   "source": [
    "dataset_survival.shape"
   ]
  },
  {
   "cell_type": "code",
   "execution_count": null,
   "id": "417bc84e-865c-4f5f-967a-20d121ac13b0",
   "metadata": {},
   "outputs": [],
   "source": [
    "dataset_survival.columns"
   ]
  },
  {
   "cell_type": "markdown",
   "id": "d9be92e8-62f6-458a-8056-32c1f010a4a5",
   "metadata": {},
   "source": [
    "### KAPLAN CURVE SHOWING OVERALL KIDNEY GRAFT ALLOCATION SURVIVAL"
   ]
  },
  {
   "cell_type": "code",
   "execution_count": null,
   "id": "f03ade11-a457-4b0d-b15f-871c9dccc820",
   "metadata": {},
   "outputs": [],
   "source": [
    " ## create a kmf object\n",
    "kmf = KaplanMeierFitter()\n",
    "\n",
    "T=dataset_survival['DAYS'] #duration\n",
    "C=dataset_survival['GL'] # 0 = No Graft Loss, Graft Loss=1\n",
    "\n",
    "kmf.fit(T, C,label='Kaplan Meier Estimate')"
   ]
  },
  {
   "cell_type": "code",
   "execution_count": null,
   "id": "44e017e1-4b6c-461f-b6e6-16e05835f3f7",
   "metadata": {},
   "outputs": [],
   "source": [
    "#KPM curve of  Overall Kidney Graft Allocation with Confidence Interval  2000-2010\n",
    "%pylab inline\n",
    "figsize(12,6)\n",
    "kmf.plot()\n",
    "plt.xlabel('Time (Days)')\n",
    "plt.ylabel('Survival probability estimate')\n",
    "plt.title('Overall KPM survival curve among kidney transplant patients_Deceased Donors(in days)')"
   ]
  },
  {
   "cell_type": "code",
   "execution_count": null,
   "id": "03093902-48e0-4328-a543-dda1dda375f9",
   "metadata": {},
   "outputs": [],
   "source": [
    "#KPM curve of  Overall Kidney Graft Allocation without Confidence Interval\n",
    "kmf.plot(ci_show=False) \n",
    "plt.xlabel('Time (Days)')\n",
    "plt.ylabel('Survival probability estimate')\n",
    "plt.title('Kaplan Meier Curve of Kidney Graft Survival')"
   ]
  },
  {
   "cell_type": "code",
   "execution_count": null,
   "id": "e3551992-bb93-459f-9bf0-0426d050979b",
   "metadata": {},
   "outputs": [],
   "source": [
    "print(\"The median survival time :\",kmf.median_survival_time_)"
   ]
  },
  {
   "cell_type": "code",
   "execution_count": null,
   "id": "9ca30072-bcc4-4865-b583-4562718fd5e6",
   "metadata": {},
   "outputs": [],
   "source": [
    " #the survival probabilities at time 1000, 2000, 3000, 3500, 4000, 5000, 6000, 7000 days etc\n",
    "survivals = pd.DataFrame([1000, 2000, 3000, 3500, 3598, 4000, 5000, 6000, 7000, 8000,9000, 10000, 11000], columns = ['time'])\n",
    "survivals.loc[:, 'Survival Prob'] = kmf.survival_function_at_times(survivals['time']).values\n",
    "survivals"
   ]
  },
  {
   "cell_type": "code",
   "execution_count": null,
   "id": "c74e4f7b-c7cc-4c11-a55f-baa33875f643",
   "metadata": {},
   "outputs": [],
   "source": [
    "#confidence interval\n",
    "kmf.confidence_interval_"
   ]
  },
  {
   "cell_type": "markdown",
   "id": "43cc44e2-269a-4947-8e26-f92b5b0d1209",
   "metadata": {},
   "source": [
    "### SUBGROUP ANALYSIS\n",
    "#### GENDER"
   ]
  },
  {
   "cell_type": "code",
   "execution_count": null,
   "id": "77f7712c-9521-4522-b0c8-fdd3e2dcf570",
   "metadata": {},
   "outputs": [],
   "source": [
    "dataset_survival['CAN_GENDER'].unique()"
   ]
  },
  {
   "cell_type": "code",
   "execution_count": null,
   "id": "d611445d-4a42-4bf4-bbce-66c2e0c2d2a1",
   "metadata": {},
   "outputs": [],
   "source": [
    "dataset_survival.CAN_GENDER.value_counts()"
   ]
  },
  {
   "cell_type": "code",
   "execution_count": null,
   "id": "48f326b4-5b52-499c-af9b-2d7177c543eb",
   "metadata": {},
   "outputs": [],
   "source": [
    "male=(69655/(69655+45426))*100\n",
    "female=(45426/(69655+45426))*100\n",
    "print(\"The male percentage is :\",male)\n",
    "print(\"The female percentage is :\",female)"
   ]
  },
  {
   "cell_type": "code",
   "execution_count": null,
   "id": "7dd8f0da-c7e6-4e8d-bdf9-b731e13b44ea",
   "metadata": {},
   "outputs": [],
   "source": [
    "ax = subplot(111)\n",
    "\n",
    "for r in dataset_survival['CAN_GENDER'].unique(): \n",
    "    ix = dataset_survival['CAN_GENDER'] == r\n",
    "    kmf.fit(T[ix], C[ix], label = r)\n",
    "    ax=kmf.plot(ax=ax, ci_show=False)\n",
    "    plt.xlabel('Time (Days)')\n",
    "    plt.ylabel('Survival probability estimate')\n",
    "    plt.title('KPM survival curve among kidney transplant patients stratified by gender-Deceased Donors')"
   ]
  },
  {
   "cell_type": "code",
   "execution_count": null,
   "id": "257b614b-8660-4e5d-8a20-d42d1dd8bda6",
   "metadata": {},
   "outputs": [],
   "source": [
    " # Checking if the diffrence between survival of the two groups is statistically significant\n",
    "#Log-Rank Test (test statistical difference between the two survival curves)\n",
    "S1 = dataset_survival[dataset_survival.CAN_GENDER ==  \"b'M'\"]\n",
    "\n",
    "S2 = dataset_survival[dataset_survival.CAN_GENDER ==  \"b'F'\"]\n",
    "\n",
    "from lifelines.statistics import logrank_test\n",
    "def logrank_p_value(group_1_data, group_2_data):\n",
    "    result = logrank_test(group_1_data.DAYS, group_2_data.DAYS,\n",
    "                          group_1_data.GL, group_2_data.GL)\n",
    "    return result.p_value\n",
    "\n",
    "logrank_p_value(S1, S2)"
   ]
  },
  {
   "cell_type": "markdown",
   "id": "21e477c3-ed87-4700-8d51-ba511c07c64a",
   "metadata": {},
   "source": [
    "#### RACE"
   ]
  },
  {
   "cell_type": "code",
   "execution_count": null,
   "id": "e92bee66-60f9-48df-b987-cf4e958e8e1d",
   "metadata": {},
   "outputs": [],
   "source": [
    " dataset_survival['CAN_RACE'].unique()"
   ]
  },
  {
   "cell_type": "code",
   "execution_count": null,
   "id": "60d4c225-bbf9-4a68-81c1-7aeeca6fe971",
   "metadata": {},
   "outputs": [],
   "source": [
    "dataset_survival.CAN_RACE.value_counts()"
   ]
  },
  {
   "cell_type": "code",
   "execution_count": null,
   "id": "95433895-6a8d-4dd7-82be-fddfabf8f864",
   "metadata": {},
   "outputs": [],
   "source": [
    "ax = subplot(111)\n",
    "\n",
    "for r in dataset_survival['CAN_RACE'].unique(): \n",
    "    ix = dataset_survival['CAN_RACE'] == r\n",
    "    kmf.fit(T[ix], C[ix], label = r)\n",
    "    ax=kmf.plot(ax=ax, ci_show=False)\n",
    "    plt.xlabel('Time (Days)')\n",
    "    plt.ylabel('Survival probability estimate')\n",
    "    plt.title('KPM survival curve among kidney transplant patients stratified by race - Deceased Donors(in days)')"
   ]
  },
  {
   "cell_type": "code",
   "execution_count": null,
   "id": "7d9d5d61-faf8-44ee-85ca-b6ae4feb7414",
   "metadata": {},
   "outputs": [],
   "source": [
    " #subdivision of kpm plot by whites, Black or African American and Asian \n",
    "ax = subplot(111)\n",
    "\n",
    "for r in dataset_survival['CAN_RACE'].unique()[:3]: \n",
    "    ix = dataset_survival['CAN_RACE'] == r\n",
    "    kmf.fit(T[ix], C[ix], label = r)\n",
    "    ax=kmf.plot(ax=ax, ci_show=False) "
   ]
  },
  {
   "cell_type": "code",
   "execution_count": null,
   "id": "f4336eaa-c305-42f8-98a0-9e5952f0661a",
   "metadata": {},
   "outputs": [],
   "source": [
    " #subdivision kpm plot by hispanic/Latino, American Indian or Alaska Native, Native Hawaiian or Other Pacific Islander \n",
    "ax = subplot(111)\n",
    "\n",
    "for r in dataset_survival['CAN_RACE'].unique()[3:]: \n",
    "    ix = dataset_survival['CAN_RACE'] == r\n",
    "    kmf.fit(T[ix], C[ix], label = r)\n",
    "    ax=kmf.plot(ax=ax, ci_show=False)"
   ]
  },
  {
   "cell_type": "code",
   "execution_count": null,
   "id": "a348a652-aa96-4e37-8f9f-6ffb91f99e1a",
   "metadata": {},
   "outputs": [],
   "source": [
    " # Checking if the diffrence between survival of the two groups is statistically significant\n",
    "#Log-Rank Test (test statistical difference between the two survival curves)\n",
    "S1 = dataset_survival[dataset_survival.CAN_RACE ==  \"White\"]\n",
    "\n",
    "S2 = dataset_survival[dataset_survival.CAN_RACE ==  \"Black or African American\"]\n",
    "\n",
    "from lifelines.statistics import logrank_test\n",
    "def logrank_p_value(group_1_data, group_2_data):\n",
    "    result = logrank_test(group_1_data.DAYS, group_2_data.DAYS,\n",
    "                          group_1_data.GL, group_2_data.GL)\n",
    "    return result.p_value\n",
    "\n",
    "logrank_p_value(S1, S2)"
   ]
  },
  {
   "cell_type": "code",
   "execution_count": null,
   "id": "f25e5f25-55cf-4865-a796-49eaa843f161",
   "metadata": {},
   "outputs": [],
   "source": [
    " # Checking if the diffrence between survival of the two groups is statistically significant\n",
    "#Log-Rank Test (test statistical difference between the two survival curves)\n",
    "S1 = dataset_survival[dataset_survival.CAN_RACE ==  \"White\"]\n",
    "\n",
    "S2 = dataset_survival[dataset_survival.CAN_RACE ==  \"Asian\"]\n",
    "\n",
    "from lifelines.statistics import logrank_test\n",
    "def logrank_p_value(group_1_data, group_2_data):\n",
    "    result = logrank_test(group_1_data.DAYS, group_2_data.DAYS,\n",
    "                          group_1_data.GL, group_2_data.GL)\n",
    "    return result.p_value\n",
    "\n",
    "logrank_p_value(S1, S2)"
   ]
  },
  {
   "cell_type": "code",
   "execution_count": null,
   "id": "bb484f2d-4af7-4e0f-bdff-d03d2aa16754",
   "metadata": {},
   "outputs": [],
   "source": [
    " # Checking if the diffrence between survival of the two groups is statistically significant\n",
    "#Log-Rank Test (test statistical difference between the two survival curves)\n",
    "S1 = dataset_survival[dataset_survival.CAN_RACE ==  \"Asian\"]\n",
    "\n",
    "S2 = dataset_survival[dataset_survival.CAN_RACE ==  \"Black or African American\"]\n",
    "\n",
    "from lifelines.statistics import logrank_test\n",
    "def logrank_p_value(group_1_data, group_2_data):\n",
    "    result = logrank_test(group_1_data.DAYS, group_2_data.DAYS,\n",
    "                          group_1_data.GL, group_2_data.GL)\n",
    "    return result.p_value\n",
    "\n",
    "logrank_p_value(S1, S2)"
   ]
  },
  {
   "cell_type": "markdown",
   "id": "9ecdb194-b089-45db-a4b2-bef6bbed0bf2",
   "metadata": {},
   "source": [
    "#### AGE"
   ]
  },
  {
   "cell_type": "code",
   "execution_count": null,
   "id": "ff16aa2f-61ec-4191-a9f4-ca35e2896de7",
   "metadata": {},
   "outputs": [],
   "source": [
    "plt.hist(dataset_survival['REC_AGE_AT_TX'])"
   ]
  },
  {
   "cell_type": "code",
   "execution_count": null,
   "id": "419c8694-c6b6-4f1e-8ec5-634398df934a",
   "metadata": {},
   "outputs": [],
   "source": [
    " #fxn to create age group\n",
    "def age_group(age):\n",
    "    if age <= 40:  \n",
    "        return \"< 40\"\n",
    "    elif age <= 60: \n",
    "        return \"41 - 60\"\n",
    "    else:           \n",
    "        return \"> 60\""
   ]
  },
  {
   "cell_type": "code",
   "execution_count": null,
   "id": "4858bbd3-7cd2-40a6-aa64-32cae6f9c87b",
   "metadata": {},
   "outputs": [],
   "source": [
    " # Apply age_group function to REC_AGE_AT_TX column\n",
    "dataset_survival['REC_AGE_AT_TX'] = dataset_survival['REC_AGE_AT_TX'].apply(age_group)"
   ]
  },
  {
   "cell_type": "code",
   "execution_count": null,
   "id": "bce1a565-3f0e-476a-a4a8-78a649023590",
   "metadata": {},
   "outputs": [],
   "source": [
    " #age categories count\n",
    "dataset_survival.REC_AGE_AT_TX.value_counts()"
   ]
  },
  {
   "cell_type": "code",
   "execution_count": null,
   "id": "1a63789f-80d4-42a6-8ca2-471d88cbe601",
   "metadata": {},
   "outputs": [],
   "source": [
    "#KPM Curve by age group\n",
    "ax = subplot(111)\n",
    "\n",
    "for r in dataset_survival['REC_AGE_AT_TX'].unique(): \n",
    "    ix = dataset_survival['REC_AGE_AT_TX'] == r\n",
    "    kmf.fit(T[ix], C[ix], label = r)\n",
    "    ax=kmf.plot(ax=ax, ci_show=False)\n",
    "    plt.xlabel('Time (Days)')\n",
    "    plt.ylabel('Survival probability estimate')\n",
    "    plt.title('KPM survival curve among kidney transplant patients stratified by age groups - Deceased Donors (in days)')"
   ]
  },
  {
   "cell_type": "code",
   "execution_count": null,
   "id": "14a2d92f-8ebc-4ef6-8853-3e533d9505d2",
   "metadata": {},
   "outputs": [],
   "source": [
    " # Checking if the diffrence between survival of the two groups is statistically significant\n",
    "#Log-Rank Test (test statistical difference between the two survival curves)\n",
    "S1 = dataset_survival[dataset_survival.REC_AGE_AT_TX ==  \"< 40\"]\n",
    "\n",
    "S2 = dataset_survival[dataset_survival.REC_AGE_AT_TX ==  \"> 60\"]\n",
    "\n",
    "from lifelines.statistics import logrank_test\n",
    "def logrank_p_value(group_1_data, group_2_data):\n",
    "    result = logrank_test(group_1_data.DAYS, group_2_data.DAYS,\n",
    "                          group_1_data.GL, group_2_data.GL)\n",
    "    return result.p_value\n",
    "\n",
    "logrank_p_value(S1, S2)"
   ]
  },
  {
   "cell_type": "code",
   "execution_count": null,
   "id": "00f0e6f1-6724-46a6-a60e-0f1a21b1a089",
   "metadata": {},
   "outputs": [],
   "source": [
    " # Checking if the diffrence between survival of the two groups is statistically significant\n",
    "#Log-Rank Test (test statistical difference between the two survival curves)\n",
    "S1 = dataset_survival[dataset_survival.REC_AGE_AT_TX ==  \"41 - 60\"]\n",
    "\n",
    "S2 = dataset_survival[dataset_survival.REC_AGE_AT_TX ==  \"> 60\"]\n",
    "\n",
    "from lifelines.statistics import logrank_test\n",
    "def logrank_p_value(group_1_data, group_2_data):\n",
    "    result = logrank_test(group_1_data.DAYS, group_2_data.DAYS,\n",
    "                          group_1_data.GL, group_2_data.GL)\n",
    "    return result.p_value\n",
    "\n",
    "logrank_p_value(S1, S2)"
   ]
  },
  {
   "cell_type": "code",
   "execution_count": null,
   "id": "c6337b32-88b1-4dd3-83a4-5d9d8453ecd1",
   "metadata": {},
   "outputs": [],
   "source": [
    " # Checking if the diffrence between survival of the two groups is statistically significant\n",
    "#Log-Rank Test (test statistical difference between the two survival curves)\n",
    "S1 = dataset_survival[dataset_survival.REC_AGE_AT_TX ==  \"< 40\"]\n",
    "\n",
    "S2 = dataset_survival[dataset_survival.REC_AGE_AT_TX ==  \"41 - 60\"]\n",
    "\n",
    "from lifelines.statistics import logrank_test\n",
    "def logrank_p_value(group_1_data, group_2_data):\n",
    "    result = logrank_test(group_1_data.DAYS, group_2_data.DAYS,\n",
    "                          group_1_data.GL, group_2_data.GL)\n",
    "    return result.p_value\n",
    "\n",
    "logrank_p_value(S1, S2)"
   ]
  },
  {
   "cell_type": "markdown",
   "id": "e823ea5d-a4d7-430b-ac04-080fe2b8395a",
   "metadata": {},
   "source": [
    "#### IMMUNOGENICITY\n",
    "##### Avg_EMS"
   ]
  },
  {
   "cell_type": "code",
   "execution_count": null,
   "id": "c0c717eb-0bad-4300-9483-1a13b593a043",
   "metadata": {},
   "outputs": [],
   "source": [
    "dataset_survival['Avg_EMS'].unique()"
   ]
  },
  {
   "cell_type": "markdown",
   "id": "29d8888b-8483-4590-8660-8c12e2473fa7",
   "metadata": {},
   "source": [
    "###### Cut off 1.8"
   ]
  },
  {
   "cell_type": "code",
   "execution_count": null,
   "id": "3bac7d16-8dde-4cbe-8765-807985708648",
   "metadata": {},
   "outputs": [],
   "source": [
    " #fxn to create age group (Using cut of 1.8 for this)\n",
    "def Avg_EMS_group(Avg_EMS):\n",
    "    if Avg_EMS <= 1.8: \n",
    "        return \"<= 1.8\"\n",
    "    else:\n",
    "        return \">1.8\""
   ]
  },
  {
   "cell_type": "code",
   "execution_count": null,
   "id": "4f1269a1-dc18-4954-83a9-add4c8b65655",
   "metadata": {},
   "outputs": [],
   "source": [
    " dataset_survival['Avg_EMS_group'] = dataset_survival['Avg_EMS'].apply(Avg_EMS_group)"
   ]
  },
  {
   "cell_type": "code",
   "execution_count": null,
   "id": "9f65f220-720f-4453-96b7-ad75845542a3",
   "metadata": {},
   "outputs": [],
   "source": [
    "  dataset_survival.Avg_EMS_group.value_counts()"
   ]
  },
  {
   "cell_type": "code",
   "execution_count": null,
   "id": "9d9ad6b9-318a-462d-93e0-2a8c809635dd",
   "metadata": {},
   "outputs": [],
   "source": [
    "ax = subplot(111)\n",
    "\n",
    "for r in dataset_survival['Avg_EMS_group'].unique(): \n",
    "    ix = dataset_survival['Avg_EMS_group'] == r\n",
    "    kmf.fit(T[ix], C[ix], label = r)\n",
    "    ax=kmf.plot(ax=ax, ci_show=False)\n",
    "    plt.xlabel('Time (Days)')\n",
    "    plt.ylabel('Survival probability estimate')\n",
    "    plt.title('KPM survival curve among kidney transplant patients stratified by Average EMS - Deceased Donors (in days)')"
   ]
  },
  {
   "cell_type": "code",
   "execution_count": null,
   "id": "48928cf1-02fe-4a3a-9ec5-11a24ef77044",
   "metadata": {},
   "outputs": [],
   "source": [
    " # Checking if the diffrence between survival of the two groups is statistically significant\n",
    "#Log-Rank Test (test statistical difference between the two survival curves)\n",
    "S1 = dataset_survival[dataset_survival.Avg_EMS_group ==  \"<= 1.8\"]\n",
    "\n",
    "S2 = dataset_survival[dataset_survival.Avg_EMS_group ==  \">1.8\"]\n",
    "\n",
    "from lifelines.statistics import logrank_test\n",
    "def logrank_p_value(group_1_data, group_2_data):\n",
    "    result = logrank_test(group_1_data.DAYS, group_2_data.DAYS,\n",
    "                          group_1_data.GL, group_2_data.GL)\n",
    "    return result.p_value\n",
    "\n",
    "logrank_p_value(S1, S2)"
   ]
  },
  {
   "cell_type": "markdown",
   "id": "207eabe2-5f72-46f6-9538-aa2cd1d0d419",
   "metadata": {},
   "source": [
    "###### Cut off 3.0"
   ]
  },
  {
   "cell_type": "code",
   "execution_count": null,
   "id": "3f0baca0-0640-4bd8-869d-565c4f5a130f",
   "metadata": {},
   "outputs": [],
   "source": [
    "#fxn to create age group (Using cut of 1.8 for this)\n",
    "def Avg_EMS_group(Avg_EMS):\n",
    "    if Avg_EMS <= 3.0: \n",
    "        return \"<= 3.0\"\n",
    "    else:\n",
    "        return \">3.0\""
   ]
  },
  {
   "cell_type": "code",
   "execution_count": null,
   "id": "4dbdc3be-1072-4433-ae4f-90b7fe2d8514",
   "metadata": {},
   "outputs": [],
   "source": [
    "dataset_survival['Avg_EMS_group2'] = dataset_survival['Avg_EMS'].apply(Avg_EMS_group)"
   ]
  },
  {
   "cell_type": "code",
   "execution_count": null,
   "id": "68d30808-7040-4e08-a0a5-a72f55326fac",
   "metadata": {},
   "outputs": [],
   "source": [
    "dataset_survival.Avg_EMS_group2.value_counts()"
   ]
  },
  {
   "cell_type": "code",
   "execution_count": null,
   "id": "394e2e9b-4394-44c1-868a-9535af080889",
   "metadata": {},
   "outputs": [],
   "source": [
    "ax = subplot(111)\n",
    "\n",
    "for r in dataset_survival['Avg_EMS_group2'].unique(): \n",
    "    ix = dataset_survival['Avg_EMS_group2'] == r\n",
    "    kmf.fit(T[ix], C[ix], label = r)\n",
    "    ax=kmf.plot(ax=ax, ci_show=False)\n",
    "    plt.xlabel('Time (Days)')\n",
    "    plt.ylabel('Survival probability estimate')\n",
    "    plt.title('KPM survival curve among kidney transplant patients stratified by Average EMS groups - Deceased Donors (in days)')"
   ]
  },
  {
   "cell_type": "code",
   "execution_count": null,
   "id": "5969b76d-43db-4bc3-bad1-d67079842595",
   "metadata": {},
   "outputs": [],
   "source": [
    "S1 = dataset_survival[dataset_survival.Avg_EMS_group2 ==  \"<= 3.0\"]\n",
    "\n",
    "S2 = dataset_survival[dataset_survival.Avg_EMS_group2 ==  \">3.0\"]\n",
    "\n",
    "from lifelines.statistics import logrank_test\n",
    "def logrank_p_value(group_1_data, group_2_data):\n",
    "    result = logrank_test(group_1_data.DAYS, group_2_data.DAYS,\n",
    "                          group_1_data.GL, group_2_data.GL)\n",
    "    return result.p_value\n",
    "\n",
    "logrank_p_value(S1, S2)"
   ]
  },
  {
   "cell_type": "markdown",
   "id": "ccc71a83-2392-455d-b681-1110a0e6ff97",
   "metadata": {},
   "source": [
    "###### Cut off 7.0"
   ]
  },
  {
   "cell_type": "code",
   "execution_count": null,
   "id": "069d53da-a628-43fb-9eda-f0a86d02f35b",
   "metadata": {},
   "outputs": [],
   "source": [
    " #fxn to create age group (Using cut of 1.8 for this)\n",
    "def Avg_EMS_group(Avg_EMS):\n",
    "    if Avg_EMS <= 7.0: \n",
    "        return \"<= 7.0\"\n",
    "    else:\n",
    "        return \">7.0\""
   ]
  },
  {
   "cell_type": "code",
   "execution_count": null,
   "id": "fef20daa-6e10-4a64-88fa-2c858630ab76",
   "metadata": {},
   "outputs": [],
   "source": [
    "dataset_survival['Avg_EMS_group3'] = dataset_survival['Avg_EMS'].apply(Avg_EMS_group)"
   ]
  },
  {
   "cell_type": "code",
   "execution_count": null,
   "id": "a6711c17-0dee-44b0-aae7-4d92c85feffb",
   "metadata": {},
   "outputs": [],
   "source": [
    "dataset_survival.Avg_EMS_group3.value_counts()"
   ]
  },
  {
   "cell_type": "code",
   "execution_count": null,
   "id": "a4fe99a5-c89d-41c8-a8f8-02374f7f68d0",
   "metadata": {},
   "outputs": [],
   "source": [
    "ax = subplot(111)\n",
    "\n",
    "for r in dataset_survival['Avg_EMS_group3'].unique(): \n",
    "    ix = dataset_survival['Avg_EMS_group3'] == r\n",
    "    kmf.fit(T[ix], C[ix], label = r)\n",
    "    ax=kmf.plot(ax=ax, ci_show=False)\n",
    "    plt.xlabel('Time (Days)')\n",
    "    plt.ylabel('Survival probability estimate')\n",
    "    plt.title('KPM survival curve among kidney transplant patients stratified by Average EMS groups - Deceased Donors (in days)')"
   ]
  },
  {
   "cell_type": "code",
   "execution_count": null,
   "id": "02319ce5-6deb-4922-b97b-42a852d173fd",
   "metadata": {},
   "outputs": [],
   "source": [
    "S1 = dataset_survival[dataset_survival.Avg_EMS_group3 ==  \"<= 7.0\"]\n",
    "\n",
    "S2 = dataset_survival[dataset_survival.Avg_EMS_group3 ==  \">7.0\"]\n",
    "\n",
    "from lifelines.statistics import logrank_test\n",
    "def logrank_p_value(group_1_data, group_2_data):\n",
    "    result = logrank_test(group_1_data.DAYS, group_2_data.DAYS,\n",
    "                          group_1_data.GL, group_2_data.GL)\n",
    "    return result.p_value\n",
    "\n",
    "logrank_p_value(S1, S2)"
   ]
  },
  {
   "cell_type": "markdown",
   "id": "a3e2fdd9-5936-4abc-9d00-bb3332ce679f",
   "metadata": {},
   "source": [
    "###### Cut off 1.1"
   ]
  },
  {
   "cell_type": "code",
   "execution_count": null,
   "id": "028efc7d-9d76-44f5-8b8f-7329826277bc",
   "metadata": {},
   "outputs": [],
   "source": [
    " #fxn to create age group (Using cut of 1.8 for this)\n",
    "def Avg_EMS_group(Avg_EMS):\n",
    "    if Avg_EMS <= 1.1: \n",
    "        return \"<= 1.1\"\n",
    "    else:\n",
    "        return \">1.1\""
   ]
  },
  {
   "cell_type": "code",
   "execution_count": null,
   "id": "4d68922f-aaab-4356-b722-5b995be0022a",
   "metadata": {},
   "outputs": [],
   "source": [
    "dataset_survival['Avg_EMS_group4'] = dataset_survival['Avg_EMS'].apply(Avg_EMS_group)"
   ]
  },
  {
   "cell_type": "code",
   "execution_count": null,
   "id": "827dc0d4-d85c-49e5-8f7c-05fe38268223",
   "metadata": {},
   "outputs": [],
   "source": [
    "  dataset_survival.Avg_EMS_group4.value_counts()"
   ]
  },
  {
   "cell_type": "code",
   "execution_count": null,
   "id": "5e230e66-3afe-4c55-b653-41f92eb92787",
   "metadata": {},
   "outputs": [],
   "source": [
    "ax = subplot(111)\n",
    "\n",
    "for r in dataset_survival['Avg_EMS_group4'].unique(): \n",
    "    ix = dataset_survival['Avg_EMS_group4'] == r\n",
    "    kmf.fit(T[ix], C[ix], label = r)\n",
    "    ax=kmf.plot(ax=ax, ci_show=False)\n",
    "    plt.xlabel('Time (Days)')\n",
    "    plt.ylabel('Survival probability estimate')\n",
    "    plt.title('KPM survival curve among kidney transplant patients using average EMS cutoff of 1.1-Deceased Donors (in days)')"
   ]
  },
  {
   "cell_type": "code",
   "execution_count": null,
   "id": "d107e984-0a76-4744-b910-94873c1aaee1",
   "metadata": {},
   "outputs": [],
   "source": [
    "S1 = dataset_survival[dataset_survival.Avg_EMS_group4 ==  \"<= 1.1\"]\n",
    "\n",
    "S2 = dataset_survival[dataset_survival.Avg_EMS_group4 ==  \">1.1\"]\n",
    "\n",
    "from lifelines.statistics import logrank_test\n",
    "def logrank_p_value(group_1_data, group_2_data):\n",
    "    result = logrank_test(group_1_data.DAYS, group_2_data.DAYS,\n",
    "                          group_1_data.GL, group_2_data.GL)\n",
    "    return result.p_value\n",
    "\n",
    "logrank_p_value(S1, S2)"
   ]
  },
  {
   "cell_type": "markdown",
   "id": "8fba50e8-0fcc-4337-bfa8-9b10dc36cdb4",
   "metadata": {},
   "source": [
    "###### Cut of 4.0"
   ]
  },
  {
   "cell_type": "code",
   "execution_count": null,
   "id": "ec2f802e-315f-419f-b4d3-c35261ada148",
   "metadata": {},
   "outputs": [],
   "source": [
    "#fxn to create age group (Using cut of 1.8 for this)\n",
    "def Avg_EMS_group(Avg_EMS):\n",
    "    if Avg_EMS <= 4.0: \n",
    "        return \"<= 4.0\"\n",
    "    else:\n",
    "        return \">4.0\""
   ]
  },
  {
   "cell_type": "code",
   "execution_count": null,
   "id": "e05588a2-13af-4bcf-924f-f40601d651f5",
   "metadata": {},
   "outputs": [],
   "source": [
    "dataset_survival['Avg_EMS_group5'] = dataset_survival['Avg_EMS'].apply(Avg_EMS_group)"
   ]
  },
  {
   "cell_type": "code",
   "execution_count": null,
   "id": "5de33cb1-546b-4ad8-8755-ea8e9d7c1f6d",
   "metadata": {},
   "outputs": [],
   "source": [
    " dataset_survival.Avg_EMS_group5.value_counts()"
   ]
  },
  {
   "cell_type": "code",
   "execution_count": null,
   "id": "fda44ced-6347-4162-852c-887bac85ee31",
   "metadata": {},
   "outputs": [],
   "source": [
    "ax = subplot(111)\n",
    "\n",
    "for r in dataset_survival['Avg_EMS_group5'].unique(): \n",
    "    ix = dataset_survival['Avg_EMS_group5'] == r\n",
    "    kmf.fit(T[ix], C[ix], label = r)\n",
    "    ax=kmf.plot(ax=ax, ci_show=False)\n",
    "    plt.xlabel('Time (Days)')\n",
    "    plt.ylabel('Survival probability estimate')\n",
    "    plt.title('KPM survival curve among kidney transplant patients using average EMS cutoff of 4.0-Deceased Donors (in days)')"
   ]
  },
  {
   "cell_type": "code",
   "execution_count": null,
   "id": "2e78e657-a83e-4d1c-9bd8-fdf04cfa82de",
   "metadata": {},
   "outputs": [],
   "source": [
    "S1 = dataset_survival[dataset_survival.Avg_EMS_group5 ==  \"<= 4.0\"]\n",
    "\n",
    "S2 = dataset_survival[dataset_survival.Avg_EMS_group5 ==  \">4.0\"]\n",
    "\n",
    "from lifelines.statistics import logrank_test\n",
    "def logrank_p_value(group_1_data, group_2_data):\n",
    "    result = logrank_test(group_1_data.DAYS, group_2_data.DAYS,\n",
    "                          group_1_data.GL, group_2_data.GL)\n",
    "    return result.p_value\n",
    "\n",
    "logrank_p_value(S1, S2)"
   ]
  },
  {
   "cell_type": "markdown",
   "id": "3131618b-2974-4879-828d-b7e4ec38e5e6",
   "metadata": {},
   "source": [
    "###### Cut off 5.0"
   ]
  },
  {
   "cell_type": "code",
   "execution_count": null,
   "id": "e1a3472d-c1d3-4cb8-af3f-66cdccd62bdc",
   "metadata": {},
   "outputs": [],
   "source": [
    "#fxn to create age group (Using cut of 1.8 for this)\n",
    "def Avg_EMS_group(Avg_EMS):\n",
    "    if Avg_EMS <= 5.0: \n",
    "        return \"<= 5.0\"\n",
    "    else:\n",
    "        return \">5.0\""
   ]
  },
  {
   "cell_type": "code",
   "execution_count": null,
   "id": "982fd13e-b909-49ad-b16b-81ef6791f1f9",
   "metadata": {},
   "outputs": [],
   "source": [
    "dataset_survival['Avg_EMS_group6'] = dataset_survival['Avg_EMS'].apply(Avg_EMS_group)"
   ]
  },
  {
   "cell_type": "code",
   "execution_count": null,
   "id": "583b64fa-6e7a-4a85-b646-48b17add9a74",
   "metadata": {},
   "outputs": [],
   "source": [
    "dataset_survival.Avg_EMS_group6.value_counts()"
   ]
  },
  {
   "cell_type": "code",
   "execution_count": null,
   "id": "29b83b96-02e7-428e-acc0-c9ce37482861",
   "metadata": {},
   "outputs": [],
   "source": [
    "ax = subplot(111)\n",
    "\n",
    "for r in dataset_survival['Avg_EMS_group6'].unique(): \n",
    "    ix = dataset_survival['Avg_EMS_group6'] == r\n",
    "    kmf.fit(T[ix], C[ix], label = r)\n",
    "    ax=kmf.plot(ax=ax, ci_show=False)\n",
    "    plt.xlabel('Time (Days)')\n",
    "    plt.ylabel('Survival probability estimate')\n",
    "    plt.title('KPM survival curve among kidney transplant patients stratified by age groups - Deceased Donors (in days)')"
   ]
  },
  {
   "cell_type": "code",
   "execution_count": null,
   "id": "f7aa9bfc-f1ba-4975-9ba2-6ae2da0a716a",
   "metadata": {},
   "outputs": [],
   "source": [
    "S1 = dataset_survival[dataset_survival.Avg_EMS_group6 ==  \"<= 5.0\"]\n",
    "\n",
    "S2 = dataset_survival[dataset_survival.Avg_EMS_group6 ==  \">5.0\"]\n",
    "\n",
    "from lifelines.statistics import logrank_test\n",
    "def logrank_p_value(group_1_data, group_2_data):\n",
    "    result = logrank_test(group_1_data.DAYS, group_2_data.DAYS,\n",
    "                          group_1_data.GL, group_2_data.GL)\n",
    "    return result.p_value\n",
    "\n",
    "logrank_p_value(S1, S2)"
   ]
  },
  {
   "cell_type": "markdown",
   "id": "2df4287d-0271-4919-8cef-88bfdf1ce5d0",
   "metadata": {},
   "source": [
    "###### 2.7, 2.8,3.0  significant 4.0 looks best cut off, 1.1 second place ,check for deceased"
   ]
  },
  {
   "cell_type": "markdown",
   "id": "0c123553-fed0-48ae-b257-6d7541a18e50",
   "metadata": {},
   "source": [
    "### EPLET LOAD"
   ]
  },
  {
   "cell_type": "code",
   "execution_count": null,
   "id": "4a921740-e45a-482b-82f7-36524e52f8e6",
   "metadata": {},
   "outputs": [],
   "source": [
    "dataset_survival['Avg_EMS'].unique()"
   ]
  },
  {
   "cell_type": "code",
   "execution_count": null,
   "id": "093654af-23f9-4d72-8a69-180ae09af11b",
   "metadata": {},
   "outputs": [],
   "source": [
    "print(dataset_survival.columns)"
   ]
  },
  {
   "cell_type": "code",
   "execution_count": null,
   "id": "7e98c9d1-a247-40f7-8027-5ad614166825",
   "metadata": {},
   "outputs": [],
   "source": [
    "#10 used as cut off\n",
    "def eplet_group(age):\n",
    "    if age <= 10: \n",
    "        return \"<= 10\"\n",
    "    else:\n",
    "        return \">10\""
   ]
  },
  {
   "cell_type": "code",
   "execution_count": null,
   "id": "57e65e43-5fc4-45b1-98b3-0d6768037f59",
   "metadata": {},
   "outputs": [],
   "source": [
    "dataset_survival['Avg_EMS_group'] = dataset_survival['Avg_EMS'].apply(eplet_group)"
   ]
  },
  {
   "cell_type": "code",
   "execution_count": null,
   "id": "c6c74745-ce72-490a-a195-4547f9dacd9a",
   "metadata": {},
   "outputs": [],
   "source": [
    "dataset_survival.Avg_EMS_group.value_counts()"
   ]
  },
  {
   "cell_type": "code",
   "execution_count": null,
   "id": "9eeafaab-97c7-4aa4-bc76-b24ff23c8d85",
   "metadata": {},
   "outputs": [],
   "source": [
    "#KPM Curve by AbvMismatch group\n",
    "ax = subplot(111)\n",
    "\n",
    "for r in dataset_survival['Avg_EMS_group'].unique():\n",
    "    ix = dataset_survival['Avg_EMS_group'] == r\n",
    "    kmf.fit(T[ix], C[ix], label = r)\n",
    "    ax=kmf.plot(ax=ax, ci_show=False)\n",
    "    plt.xlabel('Time (Days)')\n",
    "    plt.ylabel('Survival probability estimate')\n",
    "    plt.title('Kaplan-Meier survival curve of overall survival (in days) among kidney transplant stratified by AbvMismatch- Deceased Donors')"
   ]
  },
  {
   "cell_type": "code",
   "execution_count": null,
   "id": "27b32123-00f9-4e17-b971-ac5b08c3958d",
   "metadata": {},
   "outputs": [],
   "source": [
    "S1 = dataset_survival[dataset_survival.Avg_EMS_group ==  \"<= 10\"]\n",
    "\n",
    "S2 = dataset_survival[dataset_survival.Avg_EMS_group ==  \">10\"]\n",
    "\n",
    "from lifelines.statistics import logrank_test\n",
    "def logrank_p_value(group_1_data, group_2_data):\n",
    "    result = logrank_test(group_1_data.DAYS, group_2_data.DAYS,\n",
    "                          group_1_data.GL, group_2_data.GL)\n",
    "    return result.p_value\n",
    "\n",
    "logrank_p_value(S1, S2)\n"
   ]
  },
  {
   "cell_type": "code",
   "execution_count": null,
   "id": "ff6fdb93-2bfb-4cd7-8267-3c492bcc1410",
   "metadata": {},
   "outputs": [],
   "source": [
    "# print(S1.columns)\n",
    "# print(S2.columns)\n"
   ]
  },
  {
   "cell_type": "code",
   "execution_count": null,
   "id": "b28f2d27-2d5c-49fa-b080-756f0a1130be",
   "metadata": {},
   "outputs": [],
   "source": [
    "S1 = S1.dropna(subset=['DAYS', 'GL'])\n",
    "S2 = S2.dropna(subset=['DAYS', 'GL'])\n"
   ]
  },
  {
   "cell_type": "code",
   "execution_count": null,
   "id": "8dac1047-32e9-4efd-9bae-39970c583fb7",
   "metadata": {},
   "outputs": [],
   "source": [
    "S1['GL'] = S1['GL'].astype(int)\n",
    "S2['GL'] = S2['GL'].astype(int)\n"
   ]
  },
  {
   "cell_type": "code",
   "execution_count": null,
   "id": "64484bf3-219c-4b24-88dc-8a102d34736b",
   "metadata": {},
   "outputs": [],
   "source": [
    "from lifelines.statistics import logrank_test\n",
    "\n",
    "def logrank_p_value(group_1_data, group_2_data):\n",
    "    # Ensure variables exist\n",
    "    print(\"Checking group_1_data:\\n\", group_1_data.head())\n",
    "    print(\"Checking group_2_data:\\n\", group_2_data.head())\n",
    "\n",
    "    # Perform log-rank test\n",
    "    result = logrank_test(\n",
    "        group_1_data['DAYS'], group_2_data['DAYS'],\n",
    "        event_observed_A=group_1_data['GL'], event_observed_B=group_2_data['GL']\n",
    "    )\n",
    "    \n",
    "    return result.p_value\n"
   ]
  },
  {
   "cell_type": "code",
   "execution_count": null,
   "id": "bbb3e297-1daa-4fe2-9e73-6d511a9fe61f",
   "metadata": {},
   "outputs": [],
   "source": [
    "# print(S1.head())  # Should show a DataFrame with DAYS and GL\n",
    "# print(S2.head())\n"
   ]
  },
  {
   "cell_type": "code",
   "execution_count": null,
   "id": "b16ea9c5-d2b2-4acd-be77-d4881066259f",
   "metadata": {},
   "outputs": [],
   "source": [
    "#12 used as cut off"
   ]
  },
  {
   "cell_type": "code",
   "execution_count": null,
   "id": "e224964c-c118-4999-80f1-2195a8c01d92",
   "metadata": {},
   "outputs": [],
   "source": [
    "import pandas as pd\n",
    "import matplotlib.pyplot as plt\n",
    "from lifelines import KaplanMeierFitter\n",
    "from lifelines.statistics import logrank_test\n",
    "\n",
    "# Define a function to categorize Avg_EMS into groups\n",
    "def eplet_group(value):\n",
    "    if value <= 12: \n",
    "        return \"<= 12\"\n",
    "    else:\n",
    "        return \">12\"\n",
    "\n",
    "# Apply the function to create a new categorical column\n",
    "dataset_survival['Avg_EMS_group'] = dataset_survival['Avg_EMS'].apply(eplet_group)\n",
    "\n",
    "# Check the value counts to verify categorization\n",
    "print(dataset_survival['Avg_EMS_group'].value_counts())\n",
    "\n",
    "# Kaplan-Meier Curve by Avg_EMS_group\n",
    "kmf = KaplanMeierFitter()\n",
    "fig, ax = plt.subplots(figsize=(8,6))  # Create a figure and axis\n",
    "\n",
    "# Iterate over unique values in the Avg_EMS_group column\n",
    "for group in dataset_survival['Avg_EMS_group'].unique():\n",
    "    subset = dataset_survival[dataset_survival['Avg_EMS_group'] == group]\n",
    "    kmf.fit(subset['DAYS'], event_observed=subset['GL'], label=group)\n",
    "    kmf.plot(ax=ax, ci_show=False)\n",
    "\n",
    "# Customize plot labels\n",
    "plt.xlabel('Time (Days)')\n",
    "plt.ylabel('Survival Probability Estimate')\n",
    "plt.title('Kaplan-Meier Survival Curve by Avg_EMS Group (Deceased Donors)')\n",
    "plt.legend(title='Avg_EMS Group')\n",
    "plt.show()\n",
    "\n",
    "# Divide the dataset into two groups\n",
    "S1 = dataset_survival[dataset_survival['Avg_EMS_group'] == \"<= 12\"]\n",
    "S2 = dataset_survival[dataset_survival['Avg_EMS_group'] == \">12\"]\n",
    "\n",
    "# Perform the Log-Rank test\n",
    "def logrank_p_value(group_1, group_2):\n",
    "    result = logrank_test(group_1['DAYS'], group_2['DAYS'],\n",
    "                          event_observed_A=group_1['GL'], event_observed_B=group_2['GL'])\n",
    "    return result.p_value\n",
    "\n",
    "p_value = logrank_p_value(S1, S2)\n",
    "print(f\"Log-Rank Test P-Value: {p_value:.4f}\")\n"
   ]
  },
  {
   "cell_type": "markdown",
   "id": "78aa2b8e-6bc7-409a-a085-93f25f576947",
   "metadata": {},
   "source": [
    "##### 10 Sig, 12sig best, 14 sig. check for deceased"
   ]
  },
  {
   "cell_type": "code",
   "execution_count": null,
   "id": "170d8144-89d8-4ce9-9151-39ba9c1753da",
   "metadata": {},
   "outputs": [],
   "source": [
    "# Cut off is 5\n",
    "import pandas as pd\n",
    "import matplotlib.pyplot as plt\n",
    "from lifelines import KaplanMeierFitter\n",
    "from lifelines.statistics import logrank_test\n",
    "\n",
    "# Define a function to categorize Avg_EMS into groups based on cutoff 5\n",
    "def eplet_group_3(value):\n",
    "    if value <= 5: \n",
    "        return \"<= 5\"\n",
    "    else:\n",
    "        return \">5\"\n",
    "\n",
    "# Apply the function to create a new categorical column\n",
    "dataset_survival['Avg_EMS_group3'] = dataset_survival['Avg_EMS'].apply(eplet_group_3)\n",
    "\n",
    "# Check the value counts to verify categorization\n",
    "print(dataset_survival['Avg_EMS_group3'].value_counts())\n",
    "\n",
    "# Kaplan-Meier Curve by Avg_EMS_group3\n",
    "kmf = KaplanMeierFitter()\n",
    "fig, ax = plt.subplots(figsize=(8,6))  # Create a figure and axis\n",
    "\n",
    "# Iterate over unique values in the Avg_EMS_group3 column\n",
    "for group in dataset_survival['Avg_EMS_group3'].unique():\n",
    "    subset = dataset_survival[dataset_survival['Avg_EMS_group3'] == group]\n",
    "    kmf.fit(subset['DAYS'], event_observed=subset['GL'], label=group)\n",
    "    kmf.plot(ax=ax, ci_show=False)\n",
    "\n",
    "# Customize plot labels\n",
    "plt.xlabel('Time (Days)')\n",
    "plt.ylabel('Survival Probability Estimate')\n",
    "plt.title('Kaplan-Meier Survival Curve by Avg_EMS Group3 (Deceased Donors)')\n",
    "plt.legend(title='Avg_EMS Group3')\n",
    "plt.show()\n",
    "\n",
    "# Divide the dataset into two groups\n",
    "S1 = dataset_survival[dataset_survival['Avg_EMS_group3'] == \"<= 5\"]\n",
    "S2 = dataset_survival[dataset_survival['Avg_EMS_group3'] == \">5\"]\n",
    "\n",
    "# Perform the Log-Rank test\n",
    "def logrank_p_value(group_1, group_2):\n",
    "    result = logrank_test(group_1['DAYS'], group_2['DAYS'],\n",
    "                          event_observed_A=group_1['GL'], event_observed_B=group_2['GL'])\n",
    "    return result.p_value\n",
    "\n",
    "p_value = logrank_p_value(S1, S2)\n",
    "print(f\"Log-Rank Test P-Value: {p_value:.4f}\")\n"
   ]
  },
  {
   "cell_type": "code",
   "execution_count": null,
   "id": "ae0d6e29-8cb1-4ccc-bf4c-3b5e7ab95324",
   "metadata": {},
   "outputs": [],
   "source": [
    "# used as cut off 6\n",
    "def eplet_group(age):\n",
    "    if age <= 6: \n",
    "        return \"<= 6\"\n",
    "    else:\n",
    "        return \">6\""
   ]
  },
  {
   "cell_type": "code",
   "execution_count": null,
   "id": "35d7f8fd-a6b6-4636-939c-dad306608186",
   "metadata": {},
   "outputs": [],
   "source": [
    "dataset_survival['Avg_EMS_group4'] = dataset_survival['Avg_EMS'].apply(eplet_group)"
   ]
  },
  {
   "cell_type": "code",
   "execution_count": null,
   "id": "f286fab2-0a53-460a-ab2c-5e6879c0716f",
   "metadata": {},
   "outputs": [],
   "source": [
    "dataset_survival.Avg_EMS_group4.value_counts()"
   ]
  },
  {
   "cell_type": "code",
   "execution_count": null,
   "id": "61af7ffe-e1d6-4ce0-a781-1e4d6d6b45e2",
   "metadata": {},
   "outputs": [],
   "source": [
    "#KPM Curve by AbvMismatch group\n",
    "ax = subplot(111)\n",
    "\n",
    "for r in dataset_survival['Avg_EMS_group4'].unique():\n",
    "    ix = dataset_survival['Avg_EMS_group4'] == r\n",
    "    kmf.fit(T[ix], C[ix], label = r)\n",
    "    ax=kmf.plot(ax=ax, ci_show=False)\n",
    "    plt.xlabel('Time (Days)')\n",
    "    plt.ylabel('Survival probability estimate')\n",
    "    plt.title('Kaplan-Meier survival curve of overall survival (in days) among kidney transplant stratified by Abv Mismatch- Deceased donors')"
   ]
  },
  {
   "cell_type": "code",
   "execution_count": null,
   "id": "e8156afe-a5d9-484c-9d79-3d41c8377e3c",
   "metadata": {},
   "outputs": [],
   "source": [
    "S1 = dataset_survival[dataset_survival.Avg_EMS_group4 ==  \"<= 6\"]\n",
    "\n",
    "S2 = dataset_survival[dataset_survival.Avg_EMS_group4 ==  \">6\"]\n",
    "\n",
    "from lifelines.statistics import logrank_test\n",
    "def logrank_p_value(group_1_data, group_2_data):\n",
    "    result = logrank_test(group_1_data.DAYS, group_2_data.DAYS,\n",
    "                          group_1_data.GL, group_2_data.GL)\n",
    "    return result.p_value\n",
    "\n",
    "logrank_p_value(S1, S2)"
   ]
  },
  {
   "cell_type": "code",
   "execution_count": null,
   "id": "a032121a-af58-4435-b3b2-6350718e0154",
   "metadata": {},
   "outputs": [],
   "source": [
    "# used as cut off 7\n",
    "def eplet_group(age):\n",
    "    if age <= 7: \n",
    "        return \"<= 7\"\n",
    "    else:\n",
    "        return \">7\""
   ]
  },
  {
   "cell_type": "code",
   "execution_count": null,
   "id": "b93dfd03-609e-45f0-8abc-fe492431da6c",
   "metadata": {},
   "outputs": [],
   "source": [
    "dataset_survival['Avg_EMS_group5'] = dataset_survival['Avg_EMS'].apply(eplet_group)"
   ]
  },
  {
   "cell_type": "code",
   "execution_count": null,
   "id": "8a2de8b9-d657-499d-8098-8a4d940de15e",
   "metadata": {},
   "outputs": [],
   "source": [
    "dataset_survival.Avg_EMS_group5.value_counts()"
   ]
  },
  {
   "cell_type": "code",
   "execution_count": null,
   "id": "63ed04fe-daae-4941-86db-ac3cc3f13a87",
   "metadata": {},
   "outputs": [],
   "source": [
    "#KPM Curve by AbvMismatch group\n",
    "ax = subplot(111)\n",
    "\n",
    "for r in dataset_survival['Avg_EMS_group5'].unique():\n",
    "    ix = dataset_survival['Avg_EMS_group5'] == r\n",
    "    kmf.fit(T[ix], C[ix], label = r)\n",
    "    ax=kmf.plot(ax=ax, ci_show=False)\n",
    "    plt.xlabel('Time (Days)')\n",
    "    plt.ylabel('Survival probability estimate')\n",
    "    plt.title('Kaplan-Meier survival curve of overall survival (in days) among kidney transplant stratified by Abv Mismatch- Deceased donors')"
   ]
  },
  {
   "cell_type": "code",
   "execution_count": null,
   "id": "40b4048a-d204-45eb-a9ac-c9f9876cd6ca",
   "metadata": {},
   "outputs": [],
   "source": [
    "S1 = dataset_survival[dataset_survival.Avg_EMS_group5 ==  \"<= 7\"]\n",
    "\n",
    "S2 = dataset_survival[dataset_survival.Avg_EMS_group5 ==  \">7\"]\n",
    "\n",
    "from lifelines.statistics import logrank_test\n",
    "def logrank_p_value(group_1_data, group_2_data):\n",
    "    result = logrank_test(group_1_data.DAYS, group_2_data.DAYS,\n",
    "                          group_1_data.GL, group_2_data.GL)\n",
    "    return result.p_value\n",
    "\n",
    "logrank_p_value(S1, S2)"
   ]
  },
  {
   "cell_type": "markdown",
   "id": "cd4e9ddf-d84e-4ed5-be98-4ac625f5dd11",
   "metadata": {},
   "source": [
    "### PREDICTIVE MODELING AND SHAP ANALYSIS"
   ]
  },
  {
   "cell_type": "code",
   "execution_count": null,
   "id": "3c589452-0292-46a9-9dab-e75099287161",
   "metadata": {},
   "outputs": [],
   "source": [
    "import xgboost as xgb\n",
    "import shap\n",
    "from sklearn.model_selection import train_test_split\n",
    "from sklearn.metrics import accuracy_score"
   ]
  },
  {
   "cell_type": "code",
   "execution_count": null,
   "id": "4ac1f3ac-c954-4d2b-b244-ef8452b846f5",
   "metadata": {},
   "outputs": [],
   "source": [
    "# For modeling, we create a binary target.\n",
    "# Here we use GL (graft loss) as the event indicator.\n",
    "dataset_survival['target'] = dataset_survival['GL'].astype(int)"
   ]
  },
  {
   "cell_type": "code",
   "execution_count": null,
   "id": "29abfd67-b934-48d2-8621-d65f3235f595",
   "metadata": {},
   "outputs": [],
   "source": [
    "# Select a set of features (adjust as needed). We include demographic and immunogenicity measures.\n",
    "features = [\n",
    "    'REC_AGE_AT_TX',    # Note: if this is categorical, consider encoding appropriately.\n",
    "    'CAN_GENDER',       # Similarly, encode as needed.\n",
    "    'DON_RACE',         # May require one-hot encoding.\n",
    "    'Avg_EMS',\n",
    "    'Avg_HMS',\n",
    "    'Avg_AMS'\n",
    "]"
   ]
  },
  {
   "cell_type": "code",
   "execution_count": null,
   "id": "f558e984-d24b-4d7f-a2b4-f85b8d37077d",
   "metadata": {},
   "outputs": [],
   "source": [
    "# Minimal preprocessing: one-hot encode categorical variables.\n",
    "X = dataset_survival[features].copy()\n",
    "X = pd.get_dummies(X, drop_first=True)\n",
    "y = dataset_survival['target']"
   ]
  },
  {
   "cell_type": "code",
   "execution_count": null,
   "id": "6d377b43-a627-4b06-81a5-f0a3c34f0025",
   "metadata": {},
   "outputs": [],
   "source": [
    "# Ensure X is a DataFrame with valid column names\n",
    "if not isinstance(X, pd.DataFrame):\n",
    "    X = pd.DataFrame(X)\n",
    "\n",
    "# Convert feature names to strings and remove invalid characters\n",
    "X.columns = X.columns.astype(str).str.replace(r\"[\\[\\]<>]\", \"\", regex=True)\n",
    "\n",
    "# Now proceed with train_test_split and model training\n",
    "X_train, X_test, y_train, y_test = train_test_split(X, y, test_size=0.2, random_state=42)\n",
    "\n",
    "model = xgb.XGBClassifier(use_label_encoder=False, eval_metric='logloss')\n",
    "model.fit(X_train, y_train)\n"
   ]
  },
  {
   "cell_type": "code",
   "execution_count": null,
   "id": "e4b35bd2-ca08-4f39-a597-b0c1e4cc0fb0",
   "metadata": {},
   "outputs": [],
   "source": [
    "# Split into train/test sets.\n",
    "X_train, X_test, y_train, y_test = train_test_split(X, y, test_size=0.2, random_state=42)\n",
    "\n",
    "# Train an XGBoost classifier.\n",
    "model = xgb.XGBClassifier(use_label_encoder=False, eval_metric='logloss')\n",
    "model.fit(X_train, y_train)"
   ]
  },
  {
   "cell_type": "code",
   "execution_count": null,
   "id": "6161bb66-0cd8-45ef-8524-198e2a690423",
   "metadata": {},
   "outputs": [],
   "source": [
    "# Evaluate model accuracy.\n",
    "y_pred = model.predict(X_test)\n",
    "print(\"Test Accuracy:\", accuracy_score(y_test, y_pred))\n"
   ]
  },
  {
   "cell_type": "code",
   "execution_count": null,
   "id": "fa828d88-453c-4577-8aee-6ebb388a2db8",
   "metadata": {},
   "outputs": [],
   "source": [
    "# ---- SHAP Analysis ----\n",
    "# Use TreeExplainer, which is optimized for tree-based models like XGBoost.\n",
    "explainer = shap.TreeExplainer(model)\n",
    "shap_values = explainer.shap_values(X_test)"
   ]
  },
  {
   "cell_type": "code",
   "execution_count": null,
   "id": "d214341a-2925-4cee-8245-226135ff44a6",
   "metadata": {},
   "outputs": [],
   "source": [
    "# Global feature importance summary plot.\n",
    "shap.summary_plot(shap_values, X_test)"
   ]
  },
  {
   "cell_type": "code",
   "execution_count": null,
   "id": "231baa34-b16e-4dd0-a4da-abf62bcfb0e7",
   "metadata": {},
   "outputs": [],
   "source": [
    "# For a local explanation: display a force plot for the first test instance.\n",
    "shap.initjs()\n",
    "instance = X_test.iloc[0]\n",
    "force_plot = shap.force_plot(explainer.expected_value, shap_values[0], instance)\n",
    "plt.show()"
   ]
  },
  {
   "cell_type": "code",
   "execution_count": null,
   "id": "b45b6436-2995-4190-a30f-3ce0db4aeab9",
   "metadata": {},
   "outputs": [],
   "source": [
    "shap.dependence_plot(\"Avg_EMS\", shap_values, X_test)"
   ]
  },
  {
   "cell_type": "code",
   "execution_count": null,
   "id": "14a703fa-1148-45ac-a9fd-2d5908d6fbea",
   "metadata": {},
   "outputs": [],
   "source": [
    "explainer_tree = shap.TreeExplainer(model)\n",
    "shap_values_tree = explainer_tree.shap_values(X_test)\n"
   ]
  },
  {
   "cell_type": "code",
   "execution_count": null,
   "id": "f2397209-b953-4af6-938a-7997a7ec7c83",
   "metadata": {},
   "outputs": [],
   "source": [
    "# Global explanation: dependence plot for ethnicity.\n",
    "# Check the name of the ethnicity-related feature. If DON_RACE was one-hot encoded,\n",
    "# its columns may be like 'DON_RACE_Asian', 'DON_RACE_Black or African American', etc.\n",
    "# Here, we show a dependence plot for one of them (adjust as needed).\n",
    "if any(\"DON_RACE\" in col for col in X_test.columns):\n",
    "    ethnicity_col = [col for col in X_test.columns if \"DON_RACE\" in col][0]\n",
    "    shap.dependence_plot(ethnicity_col, shap_values_tree, X_test, show=False)\n",
    "    plt.title(f\"Dependence Plot for {ethnicity_col}\")\n",
    "    plt.show()\n",
    "else:\n",
    "    print(\"No donor race (ethnicity) column found after encoding.\")\n"
   ]
  },
  {
   "cell_type": "code",
   "execution_count": null,
   "id": "39a498fd-0e3b-4687-8693-bad4c2a837d0",
   "metadata": {},
   "outputs": [],
   "source": [
    "# Local explanation: force plot for a selected instance.\n",
    "shap.initjs()\n",
    "instance = X_test.iloc[0]\n",
    "force_plot = shap.force_plot(explainer_tree.expected_value, shap_values_tree[0], instance)\n",
    "# In a Jupyter Notebook, this will render interactively.\n",
    "shap.save_html(\"force_plot_ethnicity.html\", force_plot)\n",
    "print(\"Force plot saved as 'force_plot_ethnicity.html'.\")"
   ]
  },
  {
   "cell_type": "code",
   "execution_count": null,
   "id": "eacf5ea0-ad78-4189-b5ba-1e360314d1ea",
   "metadata": {},
   "outputs": [],
   "source": [
    "def model_predict(data):\n",
    "    return model.predict_proba(data)\n"
   ]
  },
  {
   "cell_type": "code",
   "execution_count": null,
   "id": "a5eaf53b-02c3-4d60-bd8b-209cae4ad587",
   "metadata": {},
   "outputs": [],
   "source": [
    "background = shap.sample(X_train, 50, random_state=42)  # small sample for background\n",
    "explainer_kernel = shap.KernelExplainer(model_predict, background)\n",
    "shap_values_kernel = explainer_kernel.shap_values(X_test.iloc[:10])  # explain a few instances\n"
   ]
  },
  {
   "cell_type": "code",
   "execution_count": null,
   "id": "2ef8d63a-02ca-4908-977f-cc9de20ebe35",
   "metadata": {},
   "outputs": [],
   "source": [
    "print(\"X_test.iloc[:10].shape:\", X_test.iloc[:10].shape)\n",
    "print(\"shap_values_kernel[1].shape:\", shap_values_kernel[1].shape)\n"
   ]
  },
  {
   "cell_type": "code",
   "execution_count": null,
   "id": "eb0e2091-1fed-49a6-bf70-f7ecc7b54fbe",
   "metadata": {},
   "outputs": [],
   "source": [
    "d = X_test.shape[1]\n",
    "shap_values_kernel_fixed = shap_values_kernel[1][:, :d]\n",
    "print(\"Adjusted SHAP values shape:\", shap_values_kernel_fixed.shape)\n"
   ]
  },
  {
   "cell_type": "code",
   "execution_count": null,
   "id": "7130c4d3-771a-4374-831c-2b1ad82eac09",
   "metadata": {},
   "outputs": [],
   "source": [
    "background = shap.sample(X_train, 50, random_state=42)\n",
    "explainer_kernel = shap.KernelExplainer(model_predict, background)\n",
    "shap_values_kernel = explainer_kernel.shap_values(X_test.iloc[:10])\n"
   ]
  },
  {
   "cell_type": "code",
   "execution_count": null,
   "id": "c50e17a6-5f78-41ef-be8a-9f340b9bf715",
   "metadata": {},
   "outputs": [],
   "source": [
    "single_instance = X_test.iloc[[0]]  # Double brackets to maintain DataFrame format\n",
    "print(\"Single instance shape:\", single_instance.shape)\n",
    "print(\"Single instance content:\\n\", single_instance)\n"
   ]
  },
  {
   "cell_type": "code",
   "execution_count": null,
   "id": "53f2df75-4c32-41c2-85fe-1e30a5c4a162",
   "metadata": {},
   "outputs": [],
   "source": [
    "explainer = shap.TreeExplainer(model)  # If using tree-based models (e.g., RandomForest, XGBoost)\n",
    "\n"
   ]
  },
  {
   "cell_type": "code",
   "execution_count": null,
   "id": "a07ac513-bade-45c6-8347-900c1109ee55",
   "metadata": {},
   "outputs": [],
   "source": [
    "# Compute SHAP values for single instance\n",
    "shap_values_single = explainer.shap_values(single_instance)\n",
    "\n",
    "if shap_values_single is not None:\n",
    "    shap_values_single_fixed = shap_values_single\n",
    "    print(\"SHAP values shape:\", shap_values_single_fixed.shape)\n",
    "    shap.summary_plot(shap_values_single_fixed, single_instance, show=False)\n",
    "    plt.title(\"SHAP Summary Plot for Single Instance (KernelExplainer)\")\n",
    "    plt.show()\n",
    "else:\n",
    "    print(\"Error: SHAP values were not generated correctly.\")\n"
   ]
  },
  {
   "cell_type": "code",
   "execution_count": null,
   "id": "0bf55849-8c88-4ad7-861d-c8a9a59dbce5",
   "metadata": {},
   "outputs": [],
   "source": [
    "print(\"KernelExplainer SHAP values shape:\", np.array(shap_values_kernel).shape)\n",
    "print(\"X_test.iloc[:10] shape:\", X_test.iloc[:10].shape)\n",
    "\n",
    "# Ensure background and X_test are both taken from X_train and X_test (after one-hot encoding)\n",
    "background = shap.sample(X_train, 50, random_state=42)\n",
    "explainer_kernel = shap.KernelExplainer(model_predict, background)\n",
    "shap_values_kernel = explainer_kernel.shap_values(X_test.iloc[:10])\n",
    "\n",
    "print(f\"SHAP values shape: {shap_values_kernel[0].shape if isinstance(shap_values_kernel, list) else shap_values_kernel.shape}\")\n",
    "print(f\"X_test shape: {X_test.iloc[:10].shape}\")\n",
    "\n",
    "if isinstance(shap_values_kernel, list):\n",
    "    print(f\"Number of classes in SHAP output: {len(shap_values_kernel)}\")\n",
    "    shap_ethnicity = shap_values_kernel[1]  # Choose the correct class\n",
    "else:\n",
    "    shap_ethnicity = shap_values_kernel\n",
    "\n",
    "print(\"X_test sample shape:\", X_test.iloc[:10].shape)\n",
    "print(\"SHAP values shape:\", shap_ethnicity.shape)\n",
    "\n",
    "shap.dependence_plot(ethnicity_col, shap_values_kernel[:, :, 1], X_test.iloc[:10], show=False)  # FIXED LINE\n",
    "plt.title(f\"KernelExplainer: Dependence Plot for {ethnicity_col}\")\n",
    "plt.show()\n",
    "\n"
   ]
  },
  {
   "cell_type": "code",
   "execution_count": null,
   "id": "ed9d8cde-2e50-4443-a898-05664c565559",
   "metadata": {},
   "outputs": [],
   "source": [
    "print(\"X_train shape:\", X_train.shape)\n",
    "print(\"X_test shape:\", X_test.shape)\n",
    "print(\"Columns in X_test:\", X_test.columns.tolist())\n"
   ]
  },
  {
   "cell_type": "code",
   "execution_count": null,
   "id": "6a64dcbe-4758-4548-b215-764c42942fa0",
   "metadata": {},
   "outputs": [],
   "source": [
    "# Make sure to use the same processed X_train and X_test\n",
    "background = shap.sample(X_train, 50, random_state=42)\n",
    "def model_predict(data):\n",
    "    return model.predict_proba(data)\n",
    "explainer_kernel = shap.KernelExplainer(model_predict, background)\n",
    "shap_values_kernel = explainer_kernel.shap_values(X_test.iloc[:10])\n",
    "print(\"KernelExplainer SHAP values shape:\", np.array(shap_values_kernel).shape)\n"
   ]
  },
  {
   "cell_type": "code",
   "execution_count": null,
   "id": "1e23fd5f-1b67-4ee5-a0a7-66d8331a809f",
   "metadata": {},
   "outputs": [],
   "source": [
    "if isinstance(shap_values_kernel, list):\n",
    "    print(\"Shape for class 0:\", shap_values_kernel[0].shape)\n",
    "    print(\"Shape for class 1:\", shap_values_kernel[1].shape)\n",
    "else:\n",
    "    print(\"Shape:\", np.array(shap_values_kernel).shape)\n"
   ]
  },
  {
   "cell_type": "code",
   "execution_count": null,
   "id": "4cb49ab8-594d-4b99-bb89-44de600f663a",
   "metadata": {},
   "outputs": [],
   "source": [
    "single_instance = X_test.iloc[[0]]\n",
    "shap_values_single = explainer_kernel.shap_values(single_instance)\n",
    "if isinstance(shap_values_single, list):\n",
    "    # If a list is returned, choose the positive class if available\n",
    "    shap_values_single_used = shap_values_single[1]\n",
    "else:\n",
    "    shap_values_single_used = shap_values_single\n",
    "print(\"Single instance data shape:\", single_instance.shape)\n",
    "print(\"Single instance SHAP values shape:\", shap_values_single_used.shape)\n",
    "print(\"Feature names:\", single_instance.columns.tolist())\n"
   ]
  },
  {
   "cell_type": "code",
   "execution_count": null,
   "id": "4aa66f01-7e35-4699-807d-9f6e997cab55",
   "metadata": {},
   "outputs": [],
   "source": []
  },
  {
   "cell_type": "code",
   "execution_count": null,
   "id": "a88135fa-9483-4eaa-a23a-e0857e472ddc",
   "metadata": {},
   "outputs": [],
   "source": [
    "# ---- Interpreting Survival Outcomes via SHAP ----\n",
    "# Although our model is for predicting graft loss, you can relate the SHAP outputs to overall kidney graft allocation survival.\n",
    "# For example, if higher predicted probability corresponds to poorer survival, then the SHAP contributions\n",
    "# (especially for ethnicity) can be interpreted in that context.\n",
    "# You might overlay the SHAP values on Kaplan-Meier curves if desired.\n",
    "#\n",
    "# One simple approach is to color-code Kaplan-Meier plots by predicted risk.\n",
    "# (Below is a conceptual example; you might refine it for publication.)\n",
    "\n",
    "from lifelines import KaplanMeierFitter"
   ]
  },
  {
   "cell_type": "code",
   "execution_count": null,
   "id": "a169af9f-e36d-4421-b960-a5e306e8d993",
   "metadata": {},
   "outputs": [],
   "source": []
  },
  {
   "cell_type": "code",
   "execution_count": null,
   "id": "c7b5e8f4-fe24-42d2-bfe4-a88c91bb9b16",
   "metadata": {},
   "outputs": [],
   "source": []
  },
  {
   "cell_type": "code",
   "execution_count": null,
   "id": "739f76c7-b4af-412f-9955-0c1c69990761",
   "metadata": {},
   "outputs": [],
   "source": [
    "# Compute predicted probabilities for graft loss.\n",
    "dataset_survival['pred_risk'] = model.predict_proba(X)[:, 1]"
   ]
  },
  {
   "cell_type": "code",
   "execution_count": null,
   "id": "e710c0cb-9c41-4ef5-a5e6-7178578c0f97",
   "metadata": {},
   "outputs": [],
   "source": [
    "# Create a risk group based on median predicted risk.\n",
    "median_risk = dataset_survival['pred_risk'].median()\n",
    "dataset_survival['risk_group'] = dataset_survival['pred_risk'].apply(lambda x: 'High Risk' if x > median_risk else 'Low Risk')"
   ]
  },
  {
   "cell_type": "code",
   "execution_count": null,
   "id": "0d52c1f3-9dda-488e-afb3-9310227c857b",
   "metadata": {},
   "outputs": [],
   "source": [
    "# Plot Kaplan-Meier curves by risk group.\n",
    "kmf_high = KaplanMeierFitter()\n",
    "kmf_low = KaplanMeierFitter()"
   ]
  },
  {
   "cell_type": "code",
   "execution_count": null,
   "id": "01d191bf-f2e0-4851-b857-eb71be9901c0",
   "metadata": {},
   "outputs": [],
   "source": [
    "T = dataset_survival['DAYS']\n",
    "C = dataset_survival['GL']"
   ]
  },
  {
   "cell_type": "code",
   "execution_count": null,
   "id": "4fe0b7dd-da4f-40fc-8c82-15a00c018794",
   "metadata": {},
   "outputs": [],
   "source": [
    "high_risk = dataset_survival[dataset_survival['risk_group'] == 'High Risk']\n",
    "low_risk = dataset_survival[dataset_survival['risk_group'] == 'Low Risk']"
   ]
  },
  {
   "cell_type": "code",
   "execution_count": null,
   "id": "8a3f058f-be0e-48df-8b48-7048e63d560a",
   "metadata": {},
   "outputs": [],
   "source": [
    "plt.figure(figsize=(10,6))\n",
    "kmf_high.fit(high_risk['DAYS'], event_observed=high_risk['GL'], label='High Predicted Risk')\n",
    "ax = kmf_high.plot(ci_show=False)\n",
    "kmf_low.fit(low_risk['DAYS'], event_observed=low_risk['GL'], label='Low Predicted Risk')\n",
    "kmf_low.plot(ax=ax, ci_show=False)\n",
    "plt.xlabel(\"Time (Days)\")\n",
    "plt.ylabel(\"Survival Probability\")\n",
    "plt.title(\"Kaplan-Meier Survival Curves by Predicted Graft Loss Risk\")\n",
    "plt.show()"
   ]
  },
  {
   "cell_type": "code",
   "execution_count": null,
   "id": "dbce2c14-b49f-4089-a69e-95cc1e663f98",
   "metadata": {},
   "outputs": [],
   "source": [
    "print(type(shap_values_tree))  # Should print <class 'list'> if multi-class\n",
    "if isinstance(shap_values_tree, list):\n",
    "    for i, arr in enumerate(shap_values_tree):\n",
    "        print(f\"Class {i} SHAP values shape:\", arr.shape)\n",
    "else:\n",
    "    print(\"SHAP values shape:\", shap_values_tree.shape)\n"
   ]
  },
  {
   "cell_type": "code",
   "execution_count": null,
   "id": "537cdef4-b79b-4ad8-a25f-55eaa143fdf0",
   "metadata": {},
   "outputs": [],
   "source": [
    "ethnicity_cols = [i for i, col in enumerate(X_test.columns) if \"DON_RACE\" in col]\n",
    "\n",
    "if len(ethnicity_cols) > 0:\n",
    "    # Extract SHAP values for ethnicity features\n",
    "    ethnicity_shap = shap_values_tree[:, ethnicity_cols]  # Use indices instead of column names\n",
    "    \n",
    "    # Compute average absolute SHAP values per ethnicity feature\n",
    "    avg_shap = np.abs(ethnicity_shap).mean(axis=0)\n",
    "    \n",
    "    print(\"Average absolute SHAP values for ethnicity features:\")\n",
    "    for feature, value in zip([X_test.columns[i] for i in ethnicity_cols], avg_shap):\n",
    "        print(f\"{feature}: {value:.3f}\")\n",
    "else:\n",
    "    print(\"No ethnicity features found for SHAP analysis.\")\n"
   ]
  },
  {
   "cell_type": "code",
   "execution_count": null,
   "id": "4dfae926-c743-40a1-85b3-9e6327423bcd",
   "metadata": {},
   "outputs": [],
   "source": []
  },
  {
   "cell_type": "code",
   "execution_count": null,
   "id": "9fa2bf5f-d16a-4902-bf3f-67e4674c848e",
   "metadata": {},
   "outputs": [],
   "source": []
  },
  {
   "cell_type": "code",
   "execution_count": null,
   "id": "2eb5fcd3-0f07-46ea-8957-4eaf3171663a",
   "metadata": {},
   "outputs": [],
   "source": []
  },
  {
   "cell_type": "code",
   "execution_count": null,
   "id": "dae68b9c-0dd9-429e-8b01-9a786fd13703",
   "metadata": {},
   "outputs": [],
   "source": []
  },
  {
   "cell_type": "code",
   "execution_count": null,
   "id": "010a480e-a40a-4889-b6cc-b014165f6e27",
   "metadata": {},
   "outputs": [],
   "source": []
  },
  {
   "cell_type": "code",
   "execution_count": null,
   "id": "4023a17c-78b3-4da0-b4f5-bc2fa3af780f",
   "metadata": {},
   "outputs": [],
   "source": []
  }
 ],
 "metadata": {
  "kernelspec": {
   "display_name": "Python 3 (ipykernel)",
   "language": "python",
   "name": "python3"
  },
  "language_info": {
   "codemirror_mode": {
    "name": "ipython",
    "version": 3
   },
   "file_extension": ".py",
   "mimetype": "text/x-python",
   "name": "python",
   "nbconvert_exporter": "python",
   "pygments_lexer": "ipython3",
   "version": "3.11.2"
  }
 },
 "nbformat": 4,
 "nbformat_minor": 5
}
